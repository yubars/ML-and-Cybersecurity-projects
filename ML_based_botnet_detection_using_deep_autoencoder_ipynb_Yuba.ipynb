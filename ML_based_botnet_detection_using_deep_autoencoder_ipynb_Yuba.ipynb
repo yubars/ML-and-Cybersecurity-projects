{
  "nbformat": 4,
  "nbformat_minor": 0,
  "metadata": {
    "colab": {
      "name": "ML based botnet detection using deep autoencoder.ipynb- Yuba",
      "provenance": [],
      "mount_file_id": "18BdVl-cytYy6YyBWjs3lRu8NADQodhkj",
      "authorship_tag": "ABX9TyPSUNLAbEuwvAEr9QXONaqk",
      "include_colab_link": true
    },
    "kernelspec": {
      "display_name": "Python 3",
      "name": "python3"
    },
    "language_info": {
      "name": "python"
    },
    "accelerator": "TPU"
  },
  "cells": [
    {
      "cell_type": "markdown",
      "metadata": {
        "id": "view-in-github",
        "colab_type": "text"
      },
      "source": [
        "<a href=\"https://colab.research.google.com/github/yubars/projects/blob/main/ML_based_botnet_detection_using_deep_autoencoder_ipynb_Yuba.ipynb\" target=\"_parent\"><img src=\"https://colab.research.google.com/assets/colab-badge.svg\" alt=\"Open In Colab\"/></a>"
      ]
    },
    {
      "cell_type": "markdown",
      "metadata": {
        "id": "H_1EAp5BsyDI"
      },
      "source": [
        "##This project deploy ML based autoencoder model to detect botnet from publicly available dataset N-BaIoT."
      ]
    },
    {
      "cell_type": "code",
      "metadata": {
        "id": "1wZliC02Xb72"
      },
      "source": [
        "#Import required libraries\n",
        "import numpy as np\n",
        "import pandas as pd\n",
        "import os\n",
        "import random\n",
        "import tensorflow as tf\n",
        "from matplotlib import pyplot\n",
        "from tensorflow.keras.models import Model\n",
        "from tensorflow.keras.optimizers import Adam\n",
        "from sklearn.preprocessing import MinMaxScaler\n",
        "from tensorflow.keras import layers, losses, Sequential\n",
        "from tensorflow.keras.callbacks import EarlyStopping"
      ],
      "execution_count": null,
      "outputs": []
    },
    {
      "cell_type": "code",
      "metadata": {
        "id": "A6nMF9QYXevA"
      },
      "source": [
        "#Install kaggle so that data can be downloaded from kaggle using API token (username and key) created before\n",
        "!pip install -q kaggle"
      ],
      "execution_count": null,
      "outputs": []
    },
    {
      "cell_type": "code",
      "metadata": {
        "colab": {
          "resources": {
            "http://localhost:8080/nbextensions/google.colab/files.js": {
              "data": "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",
              "ok": true,
              "headers": [
                [
                  "content-type",
                  "application/javascript"
                ]
              ],
              "status": 200,
              "status_text": ""
            }
          },
          "base_uri": "https://localhost:8080/",
          "height": 74
        },
        "id": "8UJOJEX0XjC6",
        "outputId": "7fd9e420-9347-41db-e712-fef22aebbc2c"
      },
      "source": [
        "#upload kaggle.json API token provided by kaggle\n",
        "from google.colab import files\n",
        "files.upload()"
      ],
      "execution_count": null,
      "outputs": [
        {
          "output_type": "display_data",
          "data": {
            "text/html": [
              "\n",
              "     <input type=\"file\" id=\"files-e4278e6b-6b32-4a1e-9400-8d0cd146c0c5\" name=\"files[]\" multiple disabled\n",
              "        style=\"border:none\" />\n",
              "     <output id=\"result-e4278e6b-6b32-4a1e-9400-8d0cd146c0c5\">\n",
              "      Upload widget is only available when the cell has been executed in the\n",
              "      current browser session. Please rerun this cell to enable.\n",
              "      </output>\n",
              "      <script src=\"/nbextensions/google.colab/files.js\"></script> "
            ],
            "text/plain": [
              "<IPython.core.display.HTML object>"
            ]
          },
          "metadata": {}
        },
        {
          "output_type": "stream",
          "name": "stdout",
          "text": [
            "Saving kaggle.json to kaggle (1).json\n"
          ]
        },
        {
          "output_type": "execute_result",
          "data": {
            "text/plain": [
              "{'kaggle.json': b'{\"username\":\"yubasiwakoti\",\"key\":\"796c347383dd101ce52fd3e64f762797\"}'}"
            ]
          },
          "metadata": {},
          "execution_count": 51
        }
      ]
    },
    {
      "cell_type": "code",
      "metadata": {
        "id": "NcO_GNKyX5HZ",
        "colab": {
          "base_uri": "https://localhost:8080/"
        },
        "outputId": "bae5f2d9-f444-420b-e970-0ada1b5ea6be"
      },
      "source": [
        "#set permission for kaggle API token\n",
        "!mkdir ~/.kaggle\n",
        "!cp kaggle.json ~/.kaggle/\n",
        "! chmod 600 ~/.kaggle/kaggle.json"
      ],
      "execution_count": null,
      "outputs": [
        {
          "output_type": "stream",
          "name": "stdout",
          "text": [
            "mkdir: cannot create directory ‘/root/.kaggle’: File exists\n"
          ]
        }
      ]
    },
    {
      "cell_type": "code",
      "metadata": {
        "id": "LjZGBSIrcXZm",
        "colab": {
          "base_uri": "https://localhost:8080/"
        },
        "outputId": "14d2eb3b-e105-488a-9e2c-468dc167a9ae"
      },
      "source": [
        "!mkdir data"
      ],
      "execution_count": null,
      "outputs": [
        {
          "output_type": "stream",
          "name": "stdout",
          "text": [
            "mkdir: cannot create directory ‘data’: File exists\n"
          ]
        }
      ]
    },
    {
      "cell_type": "code",
      "metadata": {
        "colab": {
          "base_uri": "https://localhost:8080/"
        },
        "id": "LzAuqvBEcp32",
        "outputId": "f3ee483f-1bcc-48d7-c55a-f37f39888b05"
      },
      "source": [
        "cd data"
      ],
      "execution_count": null,
      "outputs": [
        {
          "output_type": "stream",
          "name": "stdout",
          "text": [
            "/content/data\n"
          ]
        }
      ]
    },
    {
      "cell_type": "code",
      "metadata": {
        "colab": {
          "base_uri": "https://localhost:8080/"
        },
        "id": "tetc565MX-WF",
        "outputId": "4ee2854c-40cf-47d4-a157-0166621d8460"
      },
      "source": [
        "#Download N-BaIoT bontet dataset in .zip\n",
        "!kaggle datasets download -d mkashifn/nbaiot-dataset"
      ],
      "execution_count": null,
      "outputs": [
        {
          "output_type": "stream",
          "name": "stdout",
          "text": [
            "nbaiot-dataset.zip: Skipping, found more recently modified local copy (use --force to force download)\n"
          ]
        }
      ]
    },
    {
      "cell_type": "code",
      "metadata": {
        "colab": {
          "base_uri": "https://localhost:8080/"
        },
        "id": "v0sR4VhZYD_I",
        "outputId": "18dbca97-11af-4b71-95ca-8a94ed91803b"
      },
      "source": [
        "#unzip download N-baIoT dataset within working directory\n",
        "!unzip nbaiot-dataset.zip"
      ],
      "execution_count": null,
      "outputs": [
        {
          "output_type": "stream",
          "name": "stdout",
          "text": [
            "Archive:  nbaiot-dataset.zip\n",
            "replace 1.benign.csv? [y]es, [n]o, [A]ll, [N]one, [r]ename: A\n",
            "  inflating: 1.benign.csv            \n",
            "  inflating: 1.gafgyt.combo.csv      \n",
            "  inflating: 1.gafgyt.junk.csv       \n",
            "  inflating: 1.gafgyt.scan.csv       \n",
            "  inflating: 1.gafgyt.tcp.csv        \n",
            "  inflating: 1.gafgyt.udp.csv        \n",
            "  inflating: 1.mirai.ack.csv         \n",
            "  inflating: 1.mirai.scan.csv        \n",
            "  inflating: 1.mirai.syn.csv         \n",
            "  inflating: 1.mirai.udp.csv         \n",
            "  inflating: 1.mirai.udpplain.csv    \n",
            "  inflating: 2.benign.csv            \n",
            "  inflating: 2.gafgyt.combo.csv      \n",
            "  inflating: 2.gafgyt.junk.csv       \n",
            "  inflating: 2.gafgyt.scan.csv       \n",
            "  inflating: 2.gafgyt.tcp.csv        \n",
            "  inflating: 2.gafgyt.udp.csv        \n",
            "  inflating: 2.mirai.ack.csv         \n",
            "  inflating: 2.mirai.scan.csv        \n",
            "  inflating: 2.mirai.syn.csv         \n",
            "  inflating: 2.mirai.udp.csv         \n",
            "  inflating: 2.mirai.udpplain.csv    \n",
            "  inflating: 3.benign.csv            \n",
            "  inflating: 3.gafgyt.combo.csv      \n",
            "  inflating: 3.gafgyt.junk.csv       \n",
            "  inflating: 3.gafgyt.scan.csv       \n",
            "  inflating: 3.gafgyt.tcp.csv        \n",
            "  inflating: 3.gafgyt.udp.csv        \n",
            "  inflating: 4.benign.csv            \n",
            "  inflating: 4.gafgyt.combo.csv      \n",
            "  inflating: 4.gafgyt.junk.csv       \n",
            "  inflating: 4.gafgyt.scan.csv       \n",
            "  inflating: 4.gafgyt.tcp.csv        \n",
            "  inflating: 4.gafgyt.udp.csv        \n",
            "  inflating: 4.mirai.ack.csv         \n",
            "  inflating: 4.mirai.scan.csv        \n",
            "  inflating: 4.mirai.syn.csv         \n",
            "  inflating: 4.mirai.udp.csv         \n",
            "  inflating: 4.mirai.udpplain.csv    \n",
            "  inflating: 5.benign.csv            \n",
            "  inflating: 5.gafgyt.combo.csv      \n",
            "  inflating: 5.gafgyt.junk.csv       \n",
            "  inflating: 5.gafgyt.scan.csv       \n",
            "  inflating: 5.gafgyt.tcp.csv        \n",
            "  inflating: 5.gafgyt.udp.csv        \n",
            "  inflating: 5.mirai.ack.csv         \n",
            "  inflating: 5.mirai.scan.csv        \n",
            "  inflating: 5.mirai.syn.csv         \n",
            "  inflating: 5.mirai.udp.csv         \n",
            "  inflating: 5.mirai.udpplain.csv    \n",
            "  inflating: 6.benign.csv            \n",
            "  inflating: 6.gafgyt.combo.csv      \n",
            "  inflating: 6.gafgyt.junk.csv       \n",
            "  inflating: 6.gafgyt.scan.csv       \n",
            "  inflating: 6.gafgyt.tcp.csv        \n",
            "  inflating: 6.gafgyt.udp.csv        \n",
            "  inflating: 6.mirai.ack.csv         \n",
            "  inflating: 6.mirai.scan.csv        \n",
            "  inflating: 6.mirai.syn.csv         \n",
            "  inflating: 6.mirai.udp.csv         \n",
            "  inflating: 6.mirai.udpplain.csv    \n",
            "  inflating: 7.benign.csv            \n",
            "  inflating: 7.gafgyt.combo.csv      \n",
            "  inflating: 7.gafgyt.junk.csv       \n",
            "  inflating: 7.gafgyt.scan.csv       \n",
            "  inflating: 7.gafgyt.tcp.csv        \n",
            "  inflating: 7.gafgyt.udp.csv        \n",
            "  inflating: 8.benign.csv            \n",
            "  inflating: 8.gafgyt.combo.csv      \n",
            "  inflating: 8.gafgyt.junk.csv       \n",
            "  inflating: 8.gafgyt.scan.csv       \n",
            "  inflating: 8.gafgyt.tcp.csv        \n",
            "  inflating: 8.gafgyt.udp.csv        \n",
            "  inflating: 8.mirai.ack.csv         \n",
            "  inflating: 8.mirai.scan.csv        \n",
            "  inflating: 8.mirai.syn.csv         \n",
            "  inflating: 8.mirai.udp.csv         \n",
            "  inflating: 8.mirai.udpplain.csv    \n",
            "  inflating: 9.benign.csv            \n",
            "  inflating: 9.gafgyt.combo.csv      \n",
            "  inflating: 9.gafgyt.junk.csv       \n",
            "  inflating: 9.gafgyt.scan.csv       \n",
            "  inflating: 9.gafgyt.tcp.csv        \n",
            "  inflating: 9.gafgyt.udp.csv        \n",
            "  inflating: 9.mirai.ack.csv         \n",
            "  inflating: 9.mirai.scan.csv        \n",
            "  inflating: 9.mirai.syn.csv         \n",
            "  inflating: 9.mirai.udp.csv         \n",
            "  inflating: 9.mirai.udpplain.csv    \n",
            "  inflating: README.md               \n",
            "  inflating: data_summary.csv        \n",
            "  inflating: device_info.csv         \n",
            "  inflating: features.csv            \n"
          ]
        }
      ]
    },
    {
      "cell_type": "code",
      "metadata": {
        "colab": {
          "base_uri": "https://localhost:8080/"
        },
        "id": "w451_GeUdhHV",
        "outputId": "c37d0542-4b60-452a-81e3-0771bccc10bb"
      },
      "source": [
        "cd .."
      ],
      "execution_count": null,
      "outputs": [
        {
          "output_type": "stream",
          "name": "stdout",
          "text": [
            "/content\n"
          ]
        }
      ]
    },
    {
      "cell_type": "code",
      "metadata": {
        "id": "MTW3JxSmdeLb"
      },
      "source": [
        "#list the data directories in dataset saved folder /content/data into dirs\n",
        "dirs = os.listdir(\"data\")"
      ],
      "execution_count": null,
      "outputs": []
    },
    {
      "cell_type": "code",
      "metadata": {
        "colab": {
          "base_uri": "https://localhost:8080/"
        },
        "id": "-J4gvYTFdlqz",
        "outputId": "fcefc05e-e7e7-4ece-e285-d367ee7bd88c"
      },
      "source": [
        "#print data files in dirs\n",
        "print(dirs)"
      ],
      "execution_count": null,
      "outputs": [
        {
          "output_type": "stream",
          "name": "stdout",
          "text": [
            "['4.gafgyt.tcp.csv', '2.mirai.ack.csv', '1.gafgyt.scan.csv', '5.gafgyt.combo.csv', '1.gafgyt.tcp.csv', '6.mirai.udp.csv', '5.mirai.udpplain.csv', '1.benign.csv', '5.gafgyt.junk.csv', '9.mirai.syn.csv', '7.gafgyt.junk.csv', '8.gafgyt.udp.csv', '2.gafgyt.junk.csv', '2.gafgyt.tcp.csv', '3.gafgyt.combo.csv', '3.benign.csv', '5.benign.csv', '4.mirai.syn.csv', '7.gafgyt.tcp.csv', '2.mirai.syn.csv', '6.gafgyt.udp.csv', '2.mirai.scan.csv', '7.benign.csv', '5.mirai.ack.csv', '5.mirai.scan.csv', '7.gafgyt.combo.csv', '4.mirai.udpplain.csv', '6.gafgyt.combo.csv', '3.gafgyt.udp.csv', 'README.md', '8.gafgyt.scan.csv', '4.gafgyt.udp.csv', '6.gafgyt.scan.csv', '5.gafgyt.tcp.csv', '5.gafgyt.scan.csv', '9.gafgyt.junk.csv', '1.mirai.udpplain.csv', '6.mirai.udpplain.csv', '8.mirai.scan.csv', '8.mirai.udp.csv', '3.gafgyt.tcp.csv', 'device_info.csv', '9.gafgyt.scan.csv', '2.gafgyt.udp.csv', '9.benign.csv', '2.gafgyt.scan.csv', '2.mirai.udp.csv', '4.gafgyt.combo.csv', '4.benign.csv', 'data_summary.csv', '6.mirai.syn.csv', '9.gafgyt.udp.csv', '6.gafgyt.tcp.csv', '8.mirai.syn.csv', '4.gafgyt.junk.csv', '6.benign.csv', '8.mirai.udpplain.csv', '4.mirai.ack.csv', '6.mirai.scan.csv', '9.mirai.udpplain.csv', '7.gafgyt.scan.csv', '1.mirai.syn.csv', '8.gafgyt.combo.csv', '1.mirai.ack.csv', 'nbaiot-dataset.zip', '5.gafgyt.udp.csv', '8.gafgyt.tcp.csv', '9.gafgyt.combo.csv', '4.mirai.udp.csv', '2.benign.csv', '3.gafgyt.scan.csv', '9.gafgyt.tcp.csv', '3.gafgyt.junk.csv', '5.mirai.syn.csv', '1.gafgyt.junk.csv', '7.gafgyt.udp.csv', '1.mirai.udp.csv', '2.gafgyt.combo.csv', '9.mirai.udp.csv', '4.gafgyt.scan.csv', '1.mirai.scan.csv', '9.mirai.ack.csv', '8.gafgyt.junk.csv', '8.benign.csv', '1.gafgyt.udp.csv', '8.mirai.ack.csv', '5.mirai.udp.csv', '6.gafgyt.junk.csv', '9.mirai.scan.csv', '2.mirai.udpplain.csv', '4.mirai.scan.csv', '1.gafgyt.combo.csv', '6.mirai.ack.csv', 'features.csv']\n"
          ]
        }
      ]
    },
    {
      "cell_type": "code",
      "metadata": {
        "id": "D3Nlv4fegnwk"
      },
      "source": [
        "#read data_summary.csv in pandas and load to data_summary and convert 'Data_count' column to numpy array\n",
        "data_summary = pd.read_csv(\"/content/data/data_summary.csv\")\n",
        "data_summary[' Data Count'].to_numpy()\n"
      ],
      "execution_count": null,
      "outputs": []
    },
    {
      "cell_type": "code",
      "metadata": {
        "colab": {
          "base_uri": "https://localhost:8080/",
          "height": 423
        },
        "id": "psCNbNR4FNKQ",
        "outputId": "f1477422-ebee-4cf5-f46a-0e68e3751c62"
      },
      "source": [
        "#see number of data files with counts and number of attributes\n",
        "data_summary"
      ],
      "execution_count": null,
      "outputs": [
        {
          "output_type": "execute_result",
          "data": {
            "text/html": [
              "<div>\n",
              "<style scoped>\n",
              "    .dataframe tbody tr th:only-of-type {\n",
              "        vertical-align: middle;\n",
              "    }\n",
              "\n",
              "    .dataframe tbody tr th {\n",
              "        vertical-align: top;\n",
              "    }\n",
              "\n",
              "    .dataframe thead th {\n",
              "        text-align: right;\n",
              "    }\n",
              "</style>\n",
              "<table border=\"1\" class=\"dataframe\">\n",
              "  <thead>\n",
              "    <tr style=\"text-align: right;\">\n",
              "      <th></th>\n",
              "      <th>File Name</th>\n",
              "      <th>Data Count</th>\n",
              "      <th>Feature Count</th>\n",
              "    </tr>\n",
              "  </thead>\n",
              "  <tbody>\n",
              "    <tr>\n",
              "      <th>0</th>\n",
              "      <td>1.benign.csv</td>\n",
              "      <td>49548</td>\n",
              "      <td>115</td>\n",
              "    </tr>\n",
              "    <tr>\n",
              "      <th>1</th>\n",
              "      <td>1.gafgyt.combo.csv</td>\n",
              "      <td>59718</td>\n",
              "      <td>115</td>\n",
              "    </tr>\n",
              "    <tr>\n",
              "      <th>2</th>\n",
              "      <td>1.gafgyt.junk.csv</td>\n",
              "      <td>29068</td>\n",
              "      <td>115</td>\n",
              "    </tr>\n",
              "    <tr>\n",
              "      <th>3</th>\n",
              "      <td>1.gafgyt.scan.csv</td>\n",
              "      <td>29849</td>\n",
              "      <td>115</td>\n",
              "    </tr>\n",
              "    <tr>\n",
              "      <th>4</th>\n",
              "      <td>1.gafgyt.tcp.csv</td>\n",
              "      <td>92141</td>\n",
              "      <td>115</td>\n",
              "    </tr>\n",
              "    <tr>\n",
              "      <th>...</th>\n",
              "      <td>...</td>\n",
              "      <td>...</td>\n",
              "      <td>...</td>\n",
              "    </tr>\n",
              "    <tr>\n",
              "      <th>84</th>\n",
              "      <td>9.mirai.ack.csv</td>\n",
              "      <td>107187</td>\n",
              "      <td>115</td>\n",
              "    </tr>\n",
              "    <tr>\n",
              "      <th>85</th>\n",
              "      <td>9.mirai.scan.csv</td>\n",
              "      <td>43674</td>\n",
              "      <td>115</td>\n",
              "    </tr>\n",
              "    <tr>\n",
              "      <th>86</th>\n",
              "      <td>9.mirai.syn.csv</td>\n",
              "      <td>122479</td>\n",
              "      <td>115</td>\n",
              "    </tr>\n",
              "    <tr>\n",
              "      <th>87</th>\n",
              "      <td>9.mirai.udp.csv</td>\n",
              "      <td>157084</td>\n",
              "      <td>115</td>\n",
              "    </tr>\n",
              "    <tr>\n",
              "      <th>88</th>\n",
              "      <td>9.mirai.udpplain.csv</td>\n",
              "      <td>84436</td>\n",
              "      <td>115</td>\n",
              "    </tr>\n",
              "  </tbody>\n",
              "</table>\n",
              "<p>89 rows × 3 columns</p>\n",
              "</div>"
            ],
            "text/plain": [
              "               File Name   Data Count   Feature Count\n",
              "0           1.benign.csv        49548             115\n",
              "1     1.gafgyt.combo.csv        59718             115\n",
              "2      1.gafgyt.junk.csv        29068             115\n",
              "3      1.gafgyt.scan.csv        29849             115\n",
              "4       1.gafgyt.tcp.csv        92141             115\n",
              "..                   ...          ...             ...\n",
              "84       9.mirai.ack.csv       107187             115\n",
              "85      9.mirai.scan.csv        43674             115\n",
              "86       9.mirai.syn.csv       122479             115\n",
              "87       9.mirai.udp.csv       157084             115\n",
              "88  9.mirai.udpplain.csv        84436             115\n",
              "\n",
              "[89 rows x 3 columns]"
            ]
          },
          "metadata": {},
          "execution_count": 61
        }
      ]
    },
    {
      "cell_type": "code",
      "metadata": {
        "id": "OdxGyYcFiKGX",
        "colab": {
          "base_uri": "https://localhost:8080/",
          "height": 248
        },
        "outputId": "0c0b0053-a945-42ad-a872-dfafa5f97306"
      },
      "source": [
        "#plot number of data instances in each categories of data in histogram to observe if the dataset is balenced or not\n",
        "list1 = data_summary['File Name']\n",
        "list2 = data_summary[' Data Count']\n",
        "a = list1.head(11)\n",
        "b = list2.head(11)\n",
        "pyplot.figure(figsize=(5,2))\n",
        "pyplot.xticks(rotation=90)\n",
        "pyplot.bar(a,b)\n",
        "pyplot.show()"
      ],
      "execution_count": null,
      "outputs": [
        {
          "output_type": "display_data",
          "data": {
            "image/png": "[encoded data removed]",
            "text/plain": [
              "<Figure size 360x144 with 1 Axes>"
            ]
          },
          "metadata": {
            "needs_background": "light"
          }
        }
      ]
    },
    {
      "cell_type": "code",
      "metadata": {
        "id": "_8NHrSMbRYc2"
      },
      "source": [
        "device_info = pd.read_csv(\"/content/data/device_info.csv\")"
      ],
      "execution_count": null,
      "outputs": []
    },
    {
      "cell_type": "code",
      "metadata": {
        "id": "-dkQyMaNirzt"
      },
      "source": [
        "# place all data files from all devices into a set called name_set\n",
        "name_set = set()\n",
        "for name in dirs:\n",
        "  # print(name)\n",
        "  if name[1] == \".\":\n",
        "    name_set.add(name)\n",
        "name_set"
      ],
      "execution_count": null,
      "outputs": []
    },
    {
      "cell_type": "code",
      "metadata": {
        "id": "fO7hUsCAeCYQ",
        "colab": {
          "base_uri": "https://localhost:8080/"
        },
        "outputId": "30a60133-2bbf-4a7d-c2bc-b0635d9cdaa0"
      },
      "source": [
        "# extract only attacks from name_set\n",
        "name_set = set()\n",
        "for name in dirs:\n",
        "  # print(name)\n",
        "  if name[1] == \".\":\n",
        "    num = name.split(\".\")[0]\n",
        "    name = name.lstrip(f\"{num}.\")\n",
        "    name_set.add(name)\n",
        "\n",
        "name_set.remove('benign.csv')\n",
        "name_set"
      ],
      "execution_count": null,
      "outputs": [
        {
          "output_type": "execute_result",
          "data": {
            "text/plain": [
              "{'gafgyt.combo.csv',\n",
              " 'gafgyt.junk.csv',\n",
              " 'gafgyt.scan.csv',\n",
              " 'gafgyt.tcp.csv',\n",
              " 'gafgyt.udp.csv',\n",
              " 'mirai.ack.csv',\n",
              " 'mirai.scan.csv',\n",
              " 'mirai.syn.csv',\n",
              " 'mirai.udp.csv',\n",
              " 'mirai.udpplain.csv'}"
            ]
          },
          "metadata": {},
          "execution_count": 65
        }
      ]
    },
    {
      "cell_type": "code",
      "metadata": {
        "id": "5PtBGIvav30Y"
      },
      "source": [
        "#function defined to load data from a file\n",
        "def load_nbaiot(filename):\n",
        "    return np.loadtxt(\n",
        "        os.path.join(\"/content/data\", filename),\n",
        "        delimiter=\",\",\n",
        "        skiprows=1\n",
        "    )"
      ],
      "execution_count": null,
      "outputs": []
    },
    {
      "cell_type": "code",
      "metadata": {
        "id": "wwcxOtIoo0NB"
      },
      "source": [
        "#Extract all Gafgyt attacks removing mirai attacks and put into name_set1. \n",
        "#Devices with id 3 (Ennio Doorbell) and 7 (Samsung Webcam) were only attacked by Bashlite (or Gafgyt).  \n",
        "name_set1 = []\n",
        "for name1 in name_set:\n",
        "  if name1[0]!=\"m\":\n",
        "    name_set1.append(name1)"
      ],
      "execution_count": null,
      "outputs": []
    },
    {
      "cell_type": "code",
      "metadata": {
        "id": "Uq0zJBeX1BHO"
      },
      "source": [
        "#Autoencoder model of input layers with initial attributes 115. Then 4 hidden layes of encoders having approximately \n",
        "#75%, 50%, 33% and 25% of input dense in decresing orders. After then, 4 hidden docoder layers are added, with same \n",
        "#size of encoders but in increaseing order so that the autoencoder model reconstrct its inputs after compression \n",
        "#from encoders layers. Relu activation functions are used in all layers except last layers where Sigmoid is used. \n",
        "class Autoencoder(Model):\n",
        "    def __init__(self):\n",
        "        super(Autoencoder, self).__init__()\n",
        "        self.encoder = Sequential([\n",
        "            layers.Dense(115, activation=\"relu\"),\n",
        "            layers.Dense(86, activation=\"relu\"),\n",
        "            layers.Dense(57, activation=\"relu\"),\n",
        "            layers.Dense(37, activation=\"relu\"),\n",
        "            layers.Dense(28, activation=\"relu\")\n",
        "        ])\n",
        "        self.decoder = Sequential([\n",
        "            layers.Dense(37, activation=\"relu\"),\n",
        "            layers.Dense(57, activation=\"relu\"),\n",
        "            layers.Dense(86, activation=\"relu\"),\n",
        "            layers.Dense(115, activation=\"sigmoid\")\n",
        "        ])\n",
        "    \n",
        "    def call(self, x):\n",
        "        encoded = self.encoder(x)\n",
        "        decoded = self.decoder(encoded)\n",
        "        return decoded"
      ],
      "execution_count": null,
      "outputs": []
    },
    {
      "cell_type": "code",
      "metadata": {
        "id": "sGAU_ahIrRd6"
      },
      "source": [
        "#A function is defined to to reduce imbalance in dataset. Anomaly data set that is larger than benign data is gone through\n",
        "#this undersample fuunction and get random shuffled data of benign length for each attacks types in all devices\n",
        "def under_smple(benign_len, anamoly_list):\n",
        "  random.shuffle(anamoly_list)\n",
        "  if(len(anamoly_list) > benign_len):\n",
        "    under_smpld_anamoly_list = anamoly_list[0:benign_len]\n",
        "  else:\n",
        "    under_smpld_anamoly_list = anamoly_list\n",
        "  return under_smpld_anamoly_list"
      ],
      "execution_count": null,
      "outputs": []
    },
    {
      "cell_type": "code",
      "metadata": {
        "id": "-gESAwJp9oEU"
      },
      "source": [
        "from time import time\n",
        "#start = time()\n",
        "#calculate(list1)\n",
        "#end = time()\n",
        "#print(f\"Time taken: {end - start}\")"
      ],
      "execution_count": null,
      "outputs": []
    },
    {
      "cell_type": "code",
      "metadata": {
        "colab": {
          "base_uri": "https://localhost:8080/"
        },
        "id": "H5FvqIo_ZZEt",
        "outputId": "c349a816-2f6d-4892-da22-5206b9f6d5b9"
      },
      "source": [
        "# Train model by portion (80%) of benign data for each devices one by one starting from device id 1 (represented by i in code)\n",
        "# Apply model to test for portion (20%) of benign data to predict the results to see true positive and false positve \n",
        "# Apply model to test for all attacks type to observe how well malicious data predicted malicious\n",
        "# Normalize data using MinMax scaler\n",
        "# Adam as optimizer\n",
        "# Learning rate is 0.01\n",
        "# Loss function is Mean Squared Error (MSE)\n",
        "# Early stopping applied with validation error\n",
        "# Threshold is set as (mean + one standard deviation) of training loss \n",
        "# number of epochs 100\n",
        "# validation data from train set is 30%\n",
        "#prediction time\n",
        "p_time_list = []\n",
        "for i in range(1, 10):\n",
        "  print(f\"RUNNING FOR Device{device_info.iloc[i-1][1]}\")\n",
        "  benign = load_nbaiot(f\"{i}.benign.csv\")\n",
        "  num = int(len(benign)*0.8)\n",
        "  X_train = benign[:num]\n",
        "  X_test0 = benign[num:]\n",
        "  print(f\"training data size using Benign data are {num}\")\n",
        "  print(f\"test data size using Benign data are {len(X_test0)}\")\n",
        "  test_data_list = list()\n",
        "  test_data_list.append(X_test0)\n",
        "  if i == 3 or i == 7:\n",
        "    for name in name_set1:\n",
        "      anamoly_list = load_nbaiot(f\"{i}.{name}\").tolist()\n",
        "      under_smpld_anamoly_list = under_smple(len(X_train), anamoly_list)\n",
        "      test_data_list.append(np.array(under_smpld_anamoly_list))\n",
        "  else:\n",
        "    for name in name_set:\n",
        "      anamoly_list = load_nbaiot(f\"{i}.{name}\").tolist()\n",
        "      under_smpld_anamoly_list = under_smple(len(X_train), anamoly_list)\n",
        "      test_data_list.append(np.array(under_smpld_anamoly_list))\n",
        "  \n",
        "  #Normalization\n",
        "  scaler = MinMaxScaler()\n",
        "  x = scaler.fit_transform(X_train)\n",
        "\n",
        "  print(f\"training started for Device {device_info.iloc[i-1][1]}\")\n",
        "  tstart = time()\n",
        "  #use Autoencoder for training with defined optimizer, loss, epochs, learning rate\n",
        "  ae = Autoencoder()\n",
        "  ae.compile(optimizer=Adam(learning_rate=0.01), loss='mse')\n",
        "  monitor = EarlyStopping(\n",
        "      monitor='val_loss',\n",
        "      min_delta=1e-2,\n",
        "      patience=5,\n",
        "      verbose=1,\n",
        "      mode='auto'\n",
        "  )\n",
        "  history = ae.fit(\n",
        "      x=x,\n",
        "      y=x,\n",
        "      epochs=800,\n",
        "      validation_split=0.3,\n",
        "      shuffle=True,\n",
        "      callbacks=[monitor]\n",
        "  )\n",
        "  tend = time()\n",
        "  #calculate training time\n",
        "  print(f\"Time taken: {tend - tstart}\")\n",
        "  # calculation of training loss and threshold\n",
        "  print(f\"TRAINING FOR DEVICE {device_info.iloc[i-1][1]} COMPLETED\")\n",
        "  training_loss = losses.mse(x, ae(x))\n",
        "  threshold = np.mean(training_loss)+np.std(training_loss)\n",
        "  \n",
        "  #function define for prediction\n",
        "  def predict(x, threshold=threshold, window_size=82):\n",
        "    x = scaler.transform(x)\n",
        "    predictions = losses.mse(x, ae(x)) > threshold\n",
        "    \n",
        "    return np.array([np.mean(predictions[i-window_size:i]) > 0.5\n",
        "                     for i in range(window_size, len(predictions)+1)])\n",
        "  \n",
        "  #functions define for print statistics while predicting like shape of each test set and % of anamalies\n",
        "  def print_stats(data, outcome):\n",
        "      print(f\"Shape of data: {data.shape}\")\n",
        "      \n",
        "      print(f\"Detected anomalies: {np.mean(outcome)*100}%\")\n",
        "      print()\n",
        "      \n",
        "  print(f\"TESTING FOR DEVICE {device_info.iloc[i-1][1]}\")\n",
        "  test_data = test_data_list\n",
        "  \n",
        "  for j, x in enumerate(test_data):\n",
        "      print(f\"Attacks types ids {j}\")\n",
        "      pstart = time()\n",
        "      outcome = predict(x)\n",
        "      pend = time()\n",
        "      p_time_list.append((pend - pstart)*1000)\n",
        "      print_stats(x, outcome)\n",
        "  \n",
        "  print(f\"TESTING FOR DEVICE {device_info.iloc[i-1][1]} COMPLETED!!!\\n\") "
      ],
      "execution_count": null,
      "outputs": [
        {
          "output_type": "stream",
          "name": "stdout",
          "text": [
            "RUNNING FOR DeviceDanmini_Doorbell\n",
            "training data size using Benign data are 39638\n",
            "test data size using Benign data are 9910\n",
            "training started for Device Danmini_Doorbell\n",
            "Epoch 1/100\n",
            "868/868 [==============================] - 5s 5ms/step - loss: 0.0041 - val_loss: 0.0012\n",
            "Epoch 2/100\n",
            "868/868 [==============================] - 4s 4ms/step - loss: 8.1167e-04 - val_loss: 0.0015\n",
            "Epoch 3/100\n",
            "868/868 [==============================] - 4s 4ms/step - loss: 7.2311e-04 - val_loss: 8.3213e-04\n",
            "Epoch 4/100\n",
            "868/868 [==============================] - 4s 5ms/step - loss: 6.1200e-04 - val_loss: 8.5569e-04\n",
            "Epoch 5/100\n",
            "868/868 [==============================] - 4s 4ms/step - loss: 7.5743e-04 - val_loss: 9.5515e-04\n",
            "Epoch 6/100\n",
            "868/868 [==============================] - 4s 5ms/step - loss: 5.8825e-04 - val_loss: 7.0117e-04\n",
            "Epoch 00006: early stopping\n",
            "Time taken: 24.232596397399902\n",
            "TRAINING FOR DEVICE Danmini_Doorbell COMPLETED\n",
            "TESTING FOR DEVICE Danmini_Doorbell\n",
            "Attacks types ids 0\n",
            "Shape of data: (9910, 115)\n",
            "Detected anomalies: 0.5799165734052294%\n",
            "\n",
            "Attacks types ids 1\n",
            "Shape of data: (39638, 115)\n",
            "Detected anomalies: 100.0%\n",
            "\n",
            "Attacks types ids 2\n",
            "Shape of data: (29068, 115)\n",
            "Detected anomalies: 100.0%\n",
            "\n",
            "Attacks types ids 3\n",
            "Shape of data: (39638, 115)\n",
            "Detected anomalies: 100.0%\n",
            "\n",
            "Attacks types ids 4\n",
            "Shape of data: (29849, 115)\n",
            "Detected anomalies: 100.0%\n",
            "\n",
            "Attacks types ids 5\n",
            "Shape of data: (39638, 115)\n",
            "Detected anomalies: 100.0%\n",
            "\n",
            "Attacks types ids 6\n",
            "Shape of data: (39638, 115)\n",
            "Detected anomalies: 100.0%\n",
            "\n",
            "Attacks types ids 7\n",
            "Shape of data: (39638, 115)\n",
            "Detected anomalies: 100.0%\n",
            "\n",
            "Attacks types ids 8\n",
            "Shape of data: (39638, 115)\n",
            "Detected anomalies: 100.0%\n",
            "\n",
            "Attacks types ids 9\n",
            "Shape of data: (39638, 115)\n",
            "Detected anomalies: 100.0%\n",
            "\n",
            "Attacks types ids 10\n",
            "Shape of data: (39638, 115)\n",
            "Detected anomalies: 100.0%\n",
            "\n",
            "TESTING FOR DEVICE Danmini_Doorbell COMPLETED!!!\n",
            "\n",
            "RUNNING FOR DeviceEcobee_Thermostat\n",
            "training data size using Benign data are 10490\n",
            "test data size using Benign data are 2623\n",
            "training started for Device Ecobee_Thermostat\n",
            "Epoch 1/100\n",
            "230/230 [==============================] - 2s 5ms/step - loss: 0.0080 - val_loss: 0.0027\n",
            "Epoch 2/100\n",
            "230/230 [==============================] - 1s 5ms/step - loss: 0.0030 - val_loss: 0.0019\n",
            "Epoch 3/100\n",
            "230/230 [==============================] - 1s 4ms/step - loss: 0.0023 - val_loss: 0.0018\n",
            "Epoch 4/100\n",
            "230/230 [==============================] - 1s 4ms/step - loss: 0.0026 - val_loss: 0.0016\n",
            "Epoch 5/100\n",
            "230/230 [==============================] - 1s 4ms/step - loss: 0.0032 - val_loss: 0.0018\n",
            "Epoch 6/100\n",
            "230/230 [==============================] - 1s 5ms/step - loss: 0.0023 - val_loss: 0.0014\n",
            "Epoch 00006: early stopping\n",
            "Time taken: 7.188138723373413\n",
            "TRAINING FOR DEVICE Ecobee_Thermostat COMPLETED\n",
            "TESTING FOR DEVICE Ecobee_Thermostat\n",
            "Attacks types ids 0\n",
            "Shape of data: (2623, 115)\n",
            "Detected anomalies: 0.0%\n",
            "\n",
            "Attacks types ids 1\n",
            "Shape of data: (10490, 115)\n",
            "Detected anomalies: 100.0%\n",
            "\n",
            "Attacks types ids 2\n",
            "Shape of data: (10490, 115)\n",
            "Detected anomalies: 100.0%\n",
            "\n",
            "Attacks types ids 3\n",
            "Shape of data: (10490, 115)\n",
            "Detected anomalies: 100.0%\n",
            "\n",
            "Attacks types ids 4\n",
            "Shape of data: (10490, 115)\n",
            "Detected anomalies: 100.0%\n",
            "\n",
            "Attacks types ids 5\n",
            "Shape of data: (10490, 115)\n",
            "Detected anomalies: 100.0%\n",
            "\n",
            "Attacks types ids 6\n",
            "Shape of data: (10490, 115)\n",
            "Detected anomalies: 100.0%\n",
            "\n",
            "Attacks types ids 7\n",
            "Shape of data: (10490, 115)\n",
            "Detected anomalies: 100.0%\n",
            "\n",
            "Attacks types ids 8\n",
            "Shape of data: (10490, 115)\n",
            "Detected anomalies: 100.0%\n",
            "\n",
            "Attacks types ids 9\n",
            "Shape of data: (10490, 115)\n",
            "Detected anomalies: 100.0%\n",
            "\n",
            "Attacks types ids 10\n",
            "Shape of data: (10490, 115)\n",
            "Detected anomalies: 100.0%\n",
            "\n",
            "TESTING FOR DEVICE Ecobee_Thermostat COMPLETED!!!\n",
            "\n",
            "RUNNING FOR DeviceEnnio_Doorbell\n",
            "training data size using Benign data are 31280\n",
            "test data size using Benign data are 7820\n",
            "training started for Device Ennio_Doorbell\n",
            "Epoch 1/100\n",
            "685/685 [==============================] - 4s 5ms/step - loss: 0.0095 - val_loss: 0.0022\n",
            "Epoch 2/100\n",
            "685/685 [==============================] - 3s 4ms/step - loss: 0.0024 - val_loss: 0.0018\n",
            "Epoch 3/100\n",
            "685/685 [==============================] - 3s 5ms/step - loss: 0.0022 - val_loss: 0.0014\n",
            "Epoch 4/100\n",
            "685/685 [==============================] - 3s 5ms/step - loss: 0.0016 - val_loss: 0.0016\n",
            "Epoch 5/100\n",
            "685/685 [==============================] - 3s 5ms/step - loss: 0.0014 - val_loss: 0.0012\n",
            "Epoch 6/100\n",
            "685/685 [==============================] - 3s 4ms/step - loss: 0.0016 - val_loss: 0.0030\n",
            "Epoch 00006: early stopping\n",
            "Time taken: 19.71943998336792\n",
            "TRAINING FOR DEVICE Ennio_Doorbell COMPLETED\n",
            "TESTING FOR DEVICE Ennio_Doorbell\n",
            "Attacks types ids 0\n",
            "Shape of data: (7820, 115)\n",
            "Detected anomalies: 2.0932937071973123%\n",
            "\n",
            "Attacks types ids 1\n",
            "Shape of data: (29797, 115)\n",
            "Detected anomalies: 100.0%\n",
            "\n",
            "Attacks types ids 2\n",
            "Shape of data: (28120, 115)\n",
            "Detected anomalies: 100.0%\n",
            "\n",
            "Attacks types ids 3\n",
            "Shape of data: (31280, 115)\n",
            "Detected anomalies: 100.0%\n",
            "\n",
            "Attacks types ids 4\n",
            "Shape of data: (31280, 115)\n",
            "Detected anomalies: 100.0%\n",
            "\n",
            "Attacks types ids 5\n",
            "Shape of data: (31280, 115)\n",
            "Detected anomalies: 100.0%\n",
            "\n",
            "TESTING FOR DEVICE Ennio_Doorbell COMPLETED!!!\n",
            "\n",
            "RUNNING FOR DevicePhilips_B120N10_Baby_Monitor\n",
            "training data size using Benign data are 140192\n",
            "test data size using Benign data are 35048\n",
            "training started for Device Philips_B120N10_Baby_Monitor\n",
            "Epoch 1/100\n",
            "3067/3067 [==============================] - 15s 5ms/step - loss: 0.0025 - val_loss: 9.6539e-04\n",
            "Epoch 2/100\n",
            "3067/3067 [==============================] - 13s 4ms/step - loss: 9.4922e-04 - val_loss: 8.9306e-04\n",
            "Epoch 3/100\n",
            "3067/3067 [==============================] - 14s 5ms/step - loss: 9.9584e-04 - val_loss: 8.8018e-04\n",
            "Epoch 4/100\n",
            "3067/3067 [==============================] - 14s 5ms/step - loss: 8.8345e-04 - val_loss: 8.5984e-04\n",
            "Epoch 5/100\n",
            "3067/3067 [==============================] - 14s 5ms/step - loss: 0.0014 - val_loss: 0.0025\n",
            "Epoch 6/100\n",
            "3067/3067 [==============================] - 13s 4ms/step - loss: 0.0016 - val_loss: 0.0011\n",
            "Epoch 00006: early stopping\n",
            "Time taken: 84.66375184059143\n",
            "TRAINING FOR DEVICE Philips_B120N10_Baby_Monitor COMPLETED\n",
            "TESTING FOR DEVICE Philips_B120N10_Baby_Monitor\n",
            "Attacks types ids 0\n",
            "Shape of data: (35048, 115)\n",
            "Detected anomalies: 2.9484942946206423%\n",
            "\n",
            "Attacks types ids 1\n",
            "Shape of data: (118128, 115)\n",
            "Detected anomalies: 100.0%\n",
            "\n",
            "Attacks types ids 2\n",
            "Shape of data: (28349, 115)\n",
            "Detected anomalies: 100.0%\n",
            "\n",
            "Attacks types ids 3\n",
            "Shape of data: (140192, 115)\n",
            "Detected anomalies: 100.0%\n",
            "\n",
            "Attacks types ids 4\n",
            "Shape of data: (27859, 115)\n",
            "Detected anomalies: 100.0%\n",
            "\n",
            "Attacks types ids 5\n",
            "Shape of data: (103621, 115)\n",
            "Detected anomalies: 100.0%\n",
            "\n",
            "Attacks types ids 6\n",
            "Shape of data: (105782, 115)\n",
            "Detected anomalies: 100.0%\n",
            "\n",
            "Attacks types ids 7\n",
            "Shape of data: (80808, 115)\n",
            "Detected anomalies: 100.0%\n",
            "\n",
            "Attacks types ids 8\n",
            "Shape of data: (58152, 115)\n",
            "Detected anomalies: 100.0%\n",
            "\n",
            "Attacks types ids 9\n",
            "Shape of data: (91123, 115)\n",
            "Detected anomalies: 100.0%\n",
            "\n",
            "Attacks types ids 10\n",
            "Shape of data: (92581, 115)\n",
            "Detected anomalies: 100.0%\n",
            "\n",
            "TESTING FOR DEVICE Philips_B120N10_Baby_Monitor COMPLETED!!!\n",
            "\n",
            "RUNNING FOR DeviceProvision_PT_737E_Security_Camera\n",
            "training data size using Benign data are 49723\n",
            "test data size using Benign data are 12431\n",
            "training started for Device Provision_PT_737E_Security_Camera\n",
            "Epoch 1/100\n",
            "1088/1088 [==============================] - 6s 4ms/step - loss: 0.0037 - val_loss: 0.0025\n",
            "Epoch 2/100\n",
            "1088/1088 [==============================] - 5s 4ms/step - loss: 0.0011 - val_loss: 0.0017\n",
            "Epoch 3/100\n",
            "1088/1088 [==============================] - 5s 4ms/step - loss: 0.0010 - val_loss: 8.8957e-04\n",
            "Epoch 4/100\n",
            "1088/1088 [==============================] - 7s 6ms/step - loss: 0.0013 - val_loss: 0.0011\n",
            "Epoch 5/100\n",
            "1088/1088 [==============================] - 5s 5ms/step - loss: 8.6982e-04 - val_loss: 7.2828e-04\n",
            "Epoch 6/100\n",
            "1088/1088 [==============================] - 5s 4ms/step - loss: 0.0014 - val_loss: 0.0011\n",
            "Epoch 00006: early stopping\n",
            "Time taken: 31.954729795455933\n",
            "TRAINING FOR DEVICE Provision_PT_737E_Security_Camera COMPLETED\n",
            "TESTING FOR DEVICE Provision_PT_737E_Security_Camera\n",
            "Attacks types ids 0\n",
            "Shape of data: (12431, 115)\n",
            "Detected anomalies: 1.0202429149797572%\n",
            "\n",
            "Attacks types ids 1\n",
            "Shape of data: (49723, 115)\n",
            "Detected anomalies: 100.0%\n",
            "\n",
            "Attacks types ids 2\n",
            "Shape of data: (30898, 115)\n",
            "Detected anomalies: 100.0%\n",
            "\n",
            "Attacks types ids 3\n",
            "Shape of data: (49723, 115)\n",
            "Detected anomalies: 100.0%\n",
            "\n",
            "Attacks types ids 4\n",
            "Shape of data: (29297, 115)\n",
            "Detected anomalies: 100.0%\n",
            "\n",
            "Attacks types ids 5\n",
            "Shape of data: (49723, 115)\n",
            "Detected anomalies: 100.0%\n",
            "\n",
            "Attacks types ids 6\n",
            "Shape of data: (49723, 115)\n",
            "Detected anomalies: 100.0%\n",
            "\n",
            "Attacks types ids 7\n",
            "Shape of data: (49723, 115)\n",
            "Detected anomalies: 100.0%\n",
            "\n",
            "Attacks types ids 8\n",
            "Shape of data: (49723, 115)\n",
            "Detected anomalies: 100.0%\n",
            "\n",
            "Attacks types ids 9\n",
            "Shape of data: (49723, 115)\n",
            "Detected anomalies: 100.0%\n",
            "\n",
            "Attacks types ids 10\n",
            "Shape of data: (49723, 115)\n",
            "Detected anomalies: 100.0%\n",
            "\n",
            "TESTING FOR DEVICE Provision_PT_737E_Security_Camera COMPLETED!!!\n",
            "\n",
            "RUNNING FOR DeviceProvision_PT_838_Security_Camera\n",
            "training data size using Benign data are 78811\n",
            "test data size using Benign data are 19703\n",
            "training started for Device Provision_PT_838_Security_Camera\n",
            "Epoch 1/100\n",
            "1724/1724 [==============================] - 8s 4ms/step - loss: 0.0046 - val_loss: 0.0027\n",
            "Epoch 2/100\n",
            "1724/1724 [==============================] - 8s 5ms/step - loss: 0.0018 - val_loss: 0.0018\n",
            "Epoch 3/100\n",
            "1724/1724 [==============================] - 8s 5ms/step - loss: 0.0017 - val_loss: 0.0016\n",
            "Epoch 4/100\n",
            "1724/1724 [==============================] - 8s 5ms/step - loss: 0.0015 - val_loss: 0.0015\n",
            "Epoch 5/100\n",
            "1724/1724 [==============================] - 8s 4ms/step - loss: 0.0017 - val_loss: 0.0016\n",
            "Epoch 6/100\n",
            "1724/1724 [==============================] - 8s 5ms/step - loss: 0.0019 - val_loss: 0.0020\n",
            "Epoch 00006: early stopping\n",
            "Time taken: 48.53115940093994\n",
            "TRAINING FOR DEVICE Provision_PT_838_Security_Camera COMPLETED\n",
            "TESTING FOR DEVICE Provision_PT_838_Security_Camera\n",
            "Attacks types ids 0\n",
            "Shape of data: (19703, 115)\n",
            "Detected anomalies: 0.2038528182652125%\n",
            "\n",
            "Attacks types ids 1\n",
            "Shape of data: (61851, 115)\n",
            "Detected anomalies: 100.0%\n",
            "\n",
            "Attacks types ids 2\n",
            "Shape of data: (29068, 115)\n",
            "Detected anomalies: 100.0%\n",
            "\n",
            "Attacks types ids 3\n",
            "Shape of data: (78811, 115)\n",
            "Detected anomalies: 100.0%\n",
            "\n",
            "Attacks types ids 4\n",
            "Shape of data: (28397, 115)\n",
            "Detected anomalies: 100.0%\n",
            "\n",
            "Attacks types ids 5\n",
            "Shape of data: (78811, 115)\n",
            "Detected anomalies: 100.0%\n",
            "\n",
            "Attacks types ids 6\n",
            "Shape of data: (78811, 115)\n",
            "Detected anomalies: 100.0%\n",
            "\n",
            "Attacks types ids 7\n",
            "Shape of data: (53785, 115)\n",
            "Detected anomalies: 100.0%\n",
            "\n",
            "Attacks types ids 8\n",
            "Shape of data: (57530, 115)\n",
            "Detected anomalies: 100.0%\n",
            "\n",
            "Attacks types ids 9\n",
            "Shape of data: (57997, 115)\n",
            "Detected anomalies: 100.0%\n",
            "\n",
            "Attacks types ids 10\n",
            "Shape of data: (78811, 115)\n",
            "Detected anomalies: 100.0%\n",
            "\n",
            "TESTING FOR DEVICE Provision_PT_838_Security_Camera COMPLETED!!!\n",
            "\n",
            "RUNNING FOR DeviceSamsung_SNH_1011_N_Webcam\n",
            "training data size using Benign data are 41720\n",
            "test data size using Benign data are 10430\n",
            "training started for Device Samsung_SNH_1011_N_Webcam\n",
            "Epoch 1/100\n",
            "913/913 [==============================] - 5s 5ms/step - loss: 0.0031 - val_loss: 0.0028\n",
            "Epoch 2/100\n",
            "913/913 [==============================] - 4s 5ms/step - loss: 0.0012 - val_loss: 0.0020\n",
            "Epoch 3/100\n",
            "913/913 [==============================] - 4s 5ms/step - loss: 0.0012 - val_loss: 0.0020\n",
            "Epoch 4/100\n",
            "913/913 [==============================] - 4s 4ms/step - loss: 0.0012 - val_loss: 0.0022\n",
            "Epoch 5/100\n",
            "913/913 [==============================] - 4s 4ms/step - loss: 9.3388e-04 - val_loss: 0.0017\n",
            "Epoch 6/100\n",
            "913/913 [==============================] - 4s 5ms/step - loss: 9.6470e-04 - val_loss: 0.0019\n",
            "Epoch 00006: early stopping\n",
            "Time taken: 26.266112804412842\n",
            "TRAINING FOR DEVICE Samsung_SNH_1011_N_Webcam COMPLETED\n",
            "TESTING FOR DEVICE Samsung_SNH_1011_N_Webcam\n",
            "Attacks types ids 0\n",
            "Shape of data: (10430, 115)\n",
            "Detected anomalies: 4.126002512320031%\n",
            "\n",
            "Attacks types ids 1\n",
            "Shape of data: (28305, 115)\n",
            "Detected anomalies: 100.0%\n",
            "\n",
            "Attacks types ids 2\n",
            "Shape of data: (27698, 115)\n",
            "Detected anomalies: 100.0%\n",
            "\n",
            "Attacks types ids 3\n",
            "Shape of data: (41720, 115)\n",
            "Detected anomalies: 100.0%\n",
            "\n",
            "Attacks types ids 4\n",
            "Shape of data: (41720, 115)\n",
            "Detected anomalies: 100.0%\n",
            "\n",
            "Attacks types ids 5\n",
            "Shape of data: (41720, 115)\n",
            "Detected anomalies: 100.0%\n",
            "\n",
            "TESTING FOR DEVICE Samsung_SNH_1011_N_Webcam COMPLETED!!!\n",
            "\n",
            "RUNNING FOR DeviceSimpleHome_XCS7_1002_WHT_Security_Camera\n",
            "training data size using Benign data are 37268\n",
            "test data size using Benign data are 9317\n",
            "training started for Device SimpleHome_XCS7_1002_WHT_Security_Camera\n",
            "Epoch 1/100\n",
            "816/816 [==============================] - 5s 5ms/step - loss: 0.0047 - val_loss: 0.0019\n",
            "Epoch 2/100\n",
            "816/816 [==============================] - 4s 5ms/step - loss: 0.0025 - val_loss: 0.0025\n",
            "Epoch 3/100\n",
            "816/816 [==============================] - 4s 5ms/step - loss: 0.0021 - val_loss: 0.0017\n",
            "Epoch 4/100\n",
            "816/816 [==============================] - 4s 5ms/step - loss: 0.0014 - val_loss: 0.0014\n",
            "Epoch 5/100\n",
            "816/816 [==============================] - 4s 4ms/step - loss: 0.0015 - val_loss: 0.0013\n",
            "Epoch 6/100\n",
            "816/816 [==============================] - 4s 4ms/step - loss: 0.0015 - val_loss: 0.0033\n",
            "Epoch 00006: early stopping\n",
            "Time taken: 23.727268934249878\n",
            "TRAINING FOR DEVICE SimpleHome_XCS7_1002_WHT_Security_Camera COMPLETED\n",
            "TESTING FOR DEVICE SimpleHome_XCS7_1002_WHT_Security_Camera\n",
            "Attacks types ids 0\n",
            "Shape of data: (9317, 115)\n",
            "Detected anomalies: 0.032481593763533996%\n",
            "\n",
            "Attacks types ids 1\n",
            "Shape of data: (37268, 115)\n",
            "Detected anomalies: 100.0%\n",
            "\n",
            "Attacks types ids 2\n",
            "Shape of data: (28579, 115)\n",
            "Detected anomalies: 100.0%\n",
            "\n",
            "Attacks types ids 3\n",
            "Shape of data: (37268, 115)\n",
            "Detected anomalies: 100.0%\n",
            "\n",
            "Attacks types ids 4\n",
            "Shape of data: (27825, 115)\n",
            "Detected anomalies: 100.0%\n",
            "\n",
            "Attacks types ids 5\n",
            "Shape of data: (37268, 115)\n",
            "Detected anomalies: 100.0%\n",
            "\n",
            "Attacks types ids 6\n",
            "Shape of data: (37268, 115)\n",
            "Detected anomalies: 100.0%\n",
            "\n",
            "Attacks types ids 7\n",
            "Shape of data: (37268, 115)\n",
            "Detected anomalies: 100.0%\n",
            "\n",
            "Attacks types ids 8\n",
            "Shape of data: (37268, 115)\n",
            "Detected anomalies: 100.0%\n",
            "\n",
            "Attacks types ids 9\n",
            "Shape of data: (37268, 115)\n",
            "Detected anomalies: 100.0%\n",
            "\n",
            "Attacks types ids 10\n",
            "Shape of data: (37268, 115)\n",
            "Detected anomalies: 100.0%\n",
            "\n",
            "TESTING FOR DEVICE SimpleHome_XCS7_1002_WHT_Security_Camera COMPLETED!!!\n",
            "\n",
            "RUNNING FOR DeviceSimpleHome_XCS7_1003_WHT_Security_Camera\n",
            "training data size using Benign data are 15622\n",
            "test data size using Benign data are 3906\n",
            "training started for Device SimpleHome_XCS7_1003_WHT_Security_Camera\n",
            "Epoch 1/100\n",
            "342/342 [==============================] - 3s 5ms/step - loss: 0.0058 - val_loss: 0.0018\n",
            "Epoch 2/100\n",
            "342/342 [==============================] - 2s 5ms/step - loss: 0.0020 - val_loss: 0.0016\n",
            "Epoch 3/100\n",
            "342/342 [==============================] - 2s 5ms/step - loss: 0.0023 - val_loss: 0.0016\n",
            "Epoch 4/100\n",
            "342/342 [==============================] - 1s 4ms/step - loss: 0.0018 - val_loss: 0.0016\n",
            "Epoch 5/100\n",
            "342/342 [==============================] - 2s 5ms/step - loss: 0.0021 - val_loss: 0.0015\n",
            "Epoch 6/100\n",
            "342/342 [==============================] - 2s 5ms/step - loss: 0.0016 - val_loss: 0.0014\n",
            "Epoch 00006: early stopping\n",
            "Time taken: 11.020029783248901\n",
            "TRAINING FOR DEVICE SimpleHome_XCS7_1003_WHT_Security_Camera COMPLETED\n",
            "TESTING FOR DEVICE SimpleHome_XCS7_1003_WHT_Security_Camera\n",
            "Attacks types ids 0\n",
            "Shape of data: (3906, 115)\n",
            "Detected anomalies: 0.0%\n",
            "\n",
            "Attacks types ids 1\n",
            "Shape of data: (15622, 115)\n",
            "Detected anomalies: 100.0%\n",
            "\n",
            "Attacks types ids 2\n",
            "Shape of data: (15622, 115)\n",
            "Detected anomalies: 100.0%\n",
            "\n",
            "Attacks types ids 3\n",
            "Shape of data: (15622, 115)\n",
            "Detected anomalies: 100.0%\n",
            "\n",
            "Attacks types ids 4\n",
            "Shape of data: (15622, 115)\n",
            "Detected anomalies: 100.0%\n",
            "\n",
            "Attacks types ids 5\n",
            "Shape of data: (15622, 115)\n",
            "Detected anomalies: 100.0%\n",
            "\n",
            "Attacks types ids 6\n",
            "Shape of data: (15622, 115)\n",
            "Detected anomalies: 100.0%\n",
            "\n",
            "Attacks types ids 7\n",
            "Shape of data: (15622, 115)\n",
            "Detected anomalies: 100.0%\n",
            "\n",
            "Attacks types ids 8\n",
            "Shape of data: (15622, 115)\n",
            "Detected anomalies: 100.0%\n",
            "\n",
            "Attacks types ids 9\n",
            "Shape of data: (15622, 115)\n",
            "Detected anomalies: 100.0%\n",
            "\n",
            "Attacks types ids 10\n",
            "Shape of data: (15622, 115)\n",
            "Detected anomalies: 100.0%\n",
            "\n",
            "TESTING FOR DEVICE SimpleHome_XCS7_1003_WHT_Security_Camera COMPLETED!!!\n",
            "\n"
          ]
        }
      ]
    },
    {
      "cell_type": "code",
      "metadata": {
        "colab": {
          "base_uri": "https://localhost:8080/"
        },
        "id": "XDOBzpqyG0-8",
        "outputId": "ddc428aa-f7f3-434f-fabb-469d1ea66893"
      },
      "source": [
        "# Total detection time of unique attacked data set devided by window size\n",
        "a = np.array(p_time_list)/82\n",
        "a\n",
        "\n"
      ],
      "execution_count": null,
      "outputs": [
        {
          "output_type": "execute_result",
          "data": {
            "text/plain": [
              "array([ 28.72715054, 112.18471934,  82.74512465, 111.92518037,\n",
              "        83.90071334, 111.44996852, 111.74075487, 111.09296287,\n",
              "       110.92479345, 111.39921444, 109.06919037,   8.15883788,\n",
              "        29.75759855,  45.99018504,  79.89713913,  30.11148441,\n",
              "        29.88279157,  29.64858311,  29.17790413,  29.48509193,\n",
              "        29.21974368,  29.0133546 ,  22.35260533,  85.97328023,\n",
              "        80.19568862,  87.77163087,  87.39574653,  90.34134993,\n",
              "        99.78505169, 333.72311185,  81.40994863, 399.29579525,\n",
              "        80.75323337, 288.39515767, 308.57326345, 228.72257814,\n",
              "       163.88131642, 255.7607046 , 258.28649067,  35.37332139,\n",
              "       141.19186052,  86.86773661, 140.47970132,  83.11865097,\n",
              "       140.27138163, 138.71956744, 140.26151925, 140.0340214 ,\n",
              "       140.57837463, 138.67674514,  55.6991769 , 173.11349148,\n",
              "        81.55268867, 221.73236056,  80.37159792, 221.61901579,\n",
              "       223.32677318, 150.74157715, 162.79797728, 162.06965505,\n",
              "       223.78439438,  29.76513781,  81.14931932, 101.7617685 ,\n",
              "       118.32049416, 116.78088293, 197.90816307,  27.13444756,\n",
              "       106.56718801,  81.77838093, 105.69290999,  79.21513406,\n",
              "       105.26846676, 105.85640989, 105.99430014, 106.28043151,\n",
              "       107.48758839, 119.26760325,  11.38033518,  43.46009289,\n",
              "        44.45259746,  43.44181026,  44.35346185,  44.97347518,\n",
              "        44.40855108,  44.74637857,  43.27669667,  42.95502349,\n",
              "        43.29262419])"
            ]
          },
          "metadata": {},
          "execution_count": 93
        }
      ]
    },
    {
      "cell_type": "code",
      "metadata": {
        "id": "YFVqCSm3eAXi"
      },
      "source": [
        "#Exporting detection time to calcualte and plot for average for each device\n",
        "df = pd.DataFrame()\n",
        "df[\"values\"] = a\n",
        "df.to_csv(\"output.csv\", index=False)"
      ],
      "execution_count": null,
      "outputs": []
    },
    {
      "cell_type": "code",
      "metadata": {
        "id": "RpJZbxz7XBop"
      },
      "source": [
        "#extract training loss and validation loss for comparision and plot\n",
        "train_loss = history.history[\"loss\"]\n",
        "val_loss = history.history[\"val_loss\"]"
      ],
      "execution_count": null,
      "outputs": []
    },
    {
      "cell_type": "code",
      "metadata": {
        "colab": {
          "base_uri": "https://localhost:8080/"
        },
        "id": "3V4YnPyhzLBw",
        "outputId": "194c156c-e8c0-4251-efe4-1d7daa032c75"
      },
      "source": [
        "train_loss"
      ],
      "execution_count": null,
      "outputs": [
        {
          "output_type": "execute_result",
          "data": {
            "text/plain": [
              "[0.0024334292393177748,\n",
              " 0.0008936162921600044,\n",
              " 0.0007945849210955203,\n",
              " 0.0008295839070342481,\n",
              " 0.0008058465900830925,\n",
              " 0.0010765474289655685]"
            ]
          },
          "metadata": {},
          "execution_count": 73
        }
      ]
    },
    {
      "cell_type": "code",
      "metadata": {
        "colab": {
          "base_uri": "https://localhost:8080/",
          "height": 295
        },
        "id": "pt6Dun_nywGE",
        "outputId": "a3520819-8dcc-4f1f-8551-7dd4e63f0144"
      },
      "source": [
        "#plot loss graph training vs validation\n",
        "epochs = list(range(6))\n",
        "pyplot.plot(epochs, train_loss, c=\"g\", label=\"train-loss\")\n",
        "pyplot.plot(epochs, val_loss, c=\"b\", label=\"val-loss\")\n",
        "pyplot.xlabel(\"Epochs\")\n",
        "pyplot.ylabel(\"Loss\")\n",
        "pyplot.title(\"Training - Validation Loss\")\n",
        "pyplot.legend()\n",
        "pyplot.show()"
      ],
      "execution_count": null,
      "outputs": [
        {
          "output_type": "display_data",
          "data": {
            "image/png": "[encoded data removed]",
            "text/plain": [
              "<Figure size 432x288 with 1 Axes>"
            ]
          },
          "metadata": {
            "needs_background": "light"
          }
        }
      ]
    },
    {
      "cell_type": "code",
      "metadata": {
        "id": "_0Of2Suqg4sa"
      },
      "source": [
        "#copying length of test data sets and corresponing predictions\n",
        "label = [9910,39900,40000,39850,39950,39925,39875,39825,39638,39775,39696]\n",
        "preds = [9910,39900,40000,39850,39950,39925,39875,39825,39638,39775,39696]\n",
        "\n",
        "from sklearn.metrics import confusion_matrix\n",
        "matrix = confusion_matrix(label, preds)"
      ],
      "execution_count": null,
      "outputs": []
    },
    {
      "cell_type": "code",
      "metadata": {
        "id": "JCKYMdgQiiMl"
      },
      "source": [
        "labels = [\"benign\", \"gafgyt.combo\", \"gafgyt.junk\", \"gafgyt.scan\", \"gafgyt.tcp\", \"gafgyt.udp\", \"mirai.ack\", \"mirai.scan\", \"mirai.syn\", \"mirai.udp\", \"mirai.udpplain\"]"
      ],
      "execution_count": null,
      "outputs": []
    },
    {
      "cell_type": "code",
      "metadata": {
        "colab": {
          "base_uri": "https://localhost:8080/",
          "height": 921
        },
        "id": "ewvipdPtiVhU",
        "outputId": "59c44e8e-de52-4f73-dd82-ac12e6dbf1ff"
      },
      "source": [
        "#plot confusion matrix\n",
        "import seaborn as sns\n",
        "import matplotlib.pyplot as plt\n",
        "fig = plt.figure(figsize=(20, 12))\n",
        "ax = fig.add_subplot(1, 1, 1)\n",
        "sns.heatmap(matrix, annot=True, cmap='Blues', fmt='g')\n",
        "ax.set_xlabel('Predicted Labels')\n",
        "ax.set_ylabel('True Labels')\n",
        "ax.set_title('Confusion Matrix')\n",
        "ax.xaxis.set_ticklabels(list(labels))\n",
        "ax.yaxis.set_ticklabels(list(labels))\n"
      ],
      "execution_count": null,
      "outputs": [
        {
          "output_type": "execute_result",
          "data": {
            "text/plain": [
              "[Text(0, 0.5, 'benign'),\n",
              " Text(0, 1.5, 'gafgyt.combo'),\n",
              " Text(0, 2.5, 'gafgyt.junk'),\n",
              " Text(0, 3.5, 'gafgyt.scan'),\n",
              " Text(0, 4.5, 'gafgyt.tcp'),\n",
              " Text(0, 5.5, 'gafgyt.udp'),\n",
              " Text(0, 6.5, 'mirai.ack'),\n",
              " Text(0, 7.5, 'mirai.scan'),\n",
              " Text(0, 8.5, 'mirai.syn'),\n",
              " Text(0, 9.5, 'mirai.udp'),\n",
              " Text(0, 10.5, 'mirai.udpplain')]"
            ]
          },
          "metadata": {},
          "execution_count": 77
        },
        {
          "output_type": "display_data",
          "data": {
            "image/png": "[encoded data removed]",
            "text/plain": [
              "<Figure size 1440x864 with 2 Axes>"
            ]
          },
          "metadata": {
            "needs_background": "light"
          }
        }
      ]
    }
  ]
}
