{
  "nbformat": 4,
  "nbformat_minor": 0,
  "metadata": {
    "kernelspec": {
      "display_name": "Python 3",
      "language": "python",
      "name": "python3"
    },
    "language_info": {
      "codemirror_mode": {
        "name": "ipython",
        "version": 3
      },
      "file_extension": ".py",
      "mimetype": "text/x-python",
      "name": "python",
      "nbconvert_exporter": "python",
      "pygments_lexer": "ipython3",
      "version": "3.7.6"
    },
    "colab": {
      "name": "Image classification using CNN- Cat_and_Dog_Yuba",
      "provenance": [],
      "collapsed_sections": [],
      "include_colab_link": true
    },
    "accelerator": "GPU"
  },
  "cells": [
    {
      "cell_type": "markdown",
      "metadata": {
        "id": "view-in-github",
        "colab_type": "text"
      },
      "source": [
        "<a href=\"https://colab.research.google.com/github/yubars/ML-and-Cybersecurity-projects/blob/main/Image_classification_using_CNN_Cat_and_Dog_Yuba.ipynb\" target=\"_parent\"><img src=\"https://colab.research.google.com/assets/colab-badge.svg\" alt=\"Open In Colab\"/></a>"
      ]
    },
    {
      "cell_type": "markdown",
      "metadata": {
        "id": "datAH8BwnEUn"
      },
      "source": [
        "# Image Classification with Cat and Dog\n"
      ]
    },
    {
      "cell_type": "markdown",
      "metadata": {
        "id": "Ku1eZ7JhnEUq"
      },
      "source": [
        "## Convolutional Neural Network - Cat-Dog Classifier\n"
      ]
    },
    {
      "cell_type": "markdown",
      "metadata": {
        "id": "_-SfN4PvnEUr"
      },
      "source": [
        "##Import packages"
      ]
    },
    {
      "cell_type": "code",
      "metadata": {
        "id": "XmpL84JFnEUs"
      },
      "source": [
        "import numpy as np\n",
        "import matplotlib.pyplot as plt\n",
        "from keras.models import Sequential\n",
        "from keras.layers import Convolution2D\n",
        "from keras.layers import MaxPooling2D\n",
        "from keras.layers import Flatten\n",
        "from keras.layers import Dense\n",
        "from keras.layers import Dropout\n",
        "from keras.preprocessing.image import ImageDataGenerator\n",
        "from PIL import Image\n",
        "from keras.preprocessing import image"
      ],
      "execution_count": null,
      "outputs": []
    },
    {
      "cell_type": "markdown",
      "metadata": {
        "id": "TGY1cQICnEUu"
      },
      "source": [
        "### Prepare Dataset\n",
        "Download cat and dog dataset from kaggdle using kaggle id\n",
        "First install kaggle and download dataset from kaggle and Unzip images"
      ]
    },
    {
      "cell_type": "code",
      "metadata": {
        "id": "IjWLiUQnTeme"
      },
      "source": [
        "!gdown --id 1Qzho1EurBSUMSpnAFD9sym1K2BPCziKS\n",
        "!pip install kaggle\n",
        "!mkdir ~/.kaggle\n",
        "!cp kaggle.json ~/.kaggle/\n",
        "!chmod 600 ~/.kaggle/kaggle.json\n",
        "!rm kaggle.json\n",
        "!mkdir Images\n",
        "%cd Images\n",
        "!kaggle datasets download tongpython/cat-and-dog\n",
        "!unzip cat-and-dog.zip"
      ],
      "execution_count": null,
      "outputs": []
    },
    {
      "cell_type": "markdown",
      "metadata": {
        "id": "qrSV-mjRvpX2"
      },
      "source": [
        "Augment data using ImageDataGenerator with widh/heigh shift, rotation etc."
      ]
    },
    {
      "cell_type": "code",
      "metadata": {
        "id": "uTdrCbgUe0gx"
      },
      "source": [
        "train_datagen = ImageDataGenerator(rescale=1./255,\n",
        "                                   shear_range=0.2,\n",
        "                                   zoom_range=0.2,\n",
        "                                   width_shift_range=0.2,\n",
        "                                   height_shift_range=0.2,\n",
        "                                   rotation_range=40,\n",
        "                                   fill_mode='nearest',\n",
        "                                   horizontal_flip=True)\n",
        "\n",
        "test_datagen = ImageDataGenerator(rescale=1./255)"
      ],
      "execution_count": null,
      "outputs": []
    },
    {
      "cell_type": "markdown",
      "metadata": {
        "id": "QTdRJNBuv4xH"
      },
      "source": [
        "Load training images using flow_from_directory with target size of 64 x 64 and batch size of 32"
      ]
    },
    {
      "cell_type": "code",
      "metadata": {
        "id": "6wxCCrvIfdae",
        "colab": {
          "base_uri": "https://localhost:8080/"
        },
        "outputId": "fb8e2f84-dcd9-4885-9cb6-8e82560b7361"
      },
      "source": [
        "training_set = train_datagen.flow_from_directory(\n",
        "                    '/content/Images/training_set/training_set', target_size=(64, 64), batch_size=32, class_mode='binary')"
      ],
      "execution_count": null,
      "outputs": [
        {
          "output_type": "stream",
          "name": "stdout",
          "text": [
            "Found 8005 images belonging to 2 classes.\n"
          ]
        }
      ]
    },
    {
      "cell_type": "markdown",
      "metadata": {
        "id": "YwvYXExJwcCu"
      },
      "source": [
        "Load test images using flow_from_directory with target size of 64 x 64 and batch size of 32"
      ]
    },
    {
      "cell_type": "code",
      "metadata": {
        "id": "2kfhHWzmfhKp",
        "colab": {
          "base_uri": "https://localhost:8080/"
        },
        "outputId": "3b06e022-0354-43a3-9ecf-5fbf0abc212d"
      },
      "source": [
        "test_set = test_datagen.flow_from_directory(\n",
        "                  '/content/Images/test_set/test_set', target_size=(64, 64), batch_size=32, class_mode='binary')"
      ],
      "execution_count": null,
      "outputs": [
        {
          "output_type": "stream",
          "name": "stdout",
          "text": [
            "Found 2023 images belonging to 2 classes.\n"
          ]
        }
      ]
    },
    {
      "cell_type": "code",
      "metadata": {
        "id": "4HTyVxl_fkeW"
      },
      "source": [
        "#s = training_set.class_indices\n",
        "#print(s)"
      ],
      "execution_count": null,
      "outputs": []
    },
    {
      "cell_type": "markdown",
      "metadata": {
        "id": "KG-uzNIN1PX5"
      },
      "source": [
        "Build CNN model with activation functions relu followed by sigmoid and combile model with adam optimizer and binary_crossentropy as loss and accuracy as metric"
      ]
    },
    {
      "cell_type": "code",
      "metadata": {
        "id": "SHlIwCYfdM1y"
      },
      "source": [
        "model_catdog = Sequential()\n",
        "model_catdog.add(Convolution2D(64, (3, 3), input_shape = (64,64,3),padding = 'same',activation = 'relu'))\n",
        "model_catdog.add(MaxPooling2D(pool_size=(2,2), padding = 'same'))\n",
        "model_catdog.add(Convolution2D(128, (3, 3),padding = 'same', activation = 'relu'))\n",
        "model_catdog.add(MaxPooling2D(pool_size=(2,2), padding = 'same'))\n",
        "model_catdog.add(Convolution2D(256, (3, 3),padding = 'same', activation = 'relu'))\n",
        "model_catdog.add(MaxPooling2D(pool_size=(2,2), padding = 'same'))\n",
        "model_catdog.add(Flatten())\n",
        "model_catdog.add(Dense(units = 1024, activation = 'relu'))\n",
        "model_catdog.add(Dense(units = 512, activation = 'relu'))\n",
        "model_catdog.add(Dense(units = 1, activation = 'sigmoid'))\n",
        "model_catdog.compile(optimizer = 'adam', loss = 'binary_crossentropy', metrics = ['accuracy'])"
      ],
      "execution_count": null,
      "outputs": []
    },
    {
      "cell_type": "code",
      "metadata": {
        "id": "H5k8k_JZfoU7",
        "colab": {
          "base_uri": "https://localhost:8080/"
        },
        "outputId": "453cbe1a-afb7-451e-8ae7-1c4246612d4e"
      },
      "source": [
        "#Train the model\n",
        "model_catdog.fit(x = training_set, validation_data=test_set, epochs=15)"
      ],
      "execution_count": null,
      "outputs": [
        {
          "output_type": "stream",
          "name": "stdout",
          "text": [
            "Epoch 1/15\n",
            "251/251 [==============================] - 44s 166ms/step - loss: 0.6979 - accuracy: 0.5014 - val_loss: 0.6925 - val_accuracy: 0.5002\n",
            "Epoch 2/15\n",
            "251/251 [==============================] - 42s 168ms/step - loss: 0.6918 - accuracy: 0.5249 - val_loss: 0.6893 - val_accuracy: 0.5319\n",
            "Epoch 3/15\n",
            "251/251 [==============================] - 42s 168ms/step - loss: 0.6857 - accuracy: 0.5539 - val_loss: 0.6804 - val_accuracy: 0.5991\n",
            "Epoch 4/15\n",
            "251/251 [==============================] - 42s 168ms/step - loss: 0.6864 - accuracy: 0.5389 - val_loss: 0.6748 - val_accuracy: 0.5729\n",
            "Epoch 5/15\n",
            "251/251 [==============================] - 42s 169ms/step - loss: 0.6782 - accuracy: 0.5744 - val_loss: 0.7060 - val_accuracy: 0.5729\n",
            "Epoch 6/15\n",
            "251/251 [==============================] - 43s 170ms/step - loss: 0.6612 - accuracy: 0.6069 - val_loss: 0.6266 - val_accuracy: 0.6342\n",
            "Epoch 7/15\n",
            "251/251 [==============================] - 42s 168ms/step - loss: 0.6332 - accuracy: 0.6408 - val_loss: 0.6124 - val_accuracy: 0.6416\n",
            "Epoch 8/15\n",
            "251/251 [==============================] - 42s 168ms/step - loss: 0.6202 - accuracy: 0.6460 - val_loss: 0.5748 - val_accuracy: 0.7039\n",
            "Epoch 9/15\n",
            "251/251 [==============================] - 42s 169ms/step - loss: 0.5986 - accuracy: 0.6720 - val_loss: 0.6092 - val_accuracy: 0.6663\n",
            "Epoch 10/15\n",
            "251/251 [==============================] - 43s 169ms/step - loss: 0.5749 - accuracy: 0.6942 - val_loss: 0.5370 - val_accuracy: 0.7385\n",
            "Epoch 11/15\n",
            "251/251 [==============================] - 42s 169ms/step - loss: 0.5663 - accuracy: 0.7093 - val_loss: 0.5779 - val_accuracy: 0.7000\n",
            "Epoch 12/15\n",
            "251/251 [==============================] - 42s 169ms/step - loss: 0.5522 - accuracy: 0.7117 - val_loss: 0.5549 - val_accuracy: 0.7108\n",
            "Epoch 13/15\n",
            "251/251 [==============================] - 42s 169ms/step - loss: 0.5383 - accuracy: 0.7303 - val_loss: 0.5926 - val_accuracy: 0.7000\n",
            "Epoch 14/15\n",
            "251/251 [==============================] - 43s 170ms/step - loss: 0.5421 - accuracy: 0.7228 - val_loss: 0.4820 - val_accuracy: 0.7800\n",
            "Epoch 15/15\n",
            "251/251 [==============================] - 43s 170ms/step - loss: 0.5270 - accuracy: 0.7342 - val_loss: 0.5044 - val_accuracy: 0.7548\n"
          ]
        },
        {
          "output_type": "execute_result",
          "data": {
            "text/plain": [
              "<keras.callbacks.History at 0x7fc90e27db90>"
            ]
          },
          "metadata": {},
          "execution_count": 8
        }
      ]
    },
    {
      "cell_type": "markdown",
      "metadata": {
        "id": "zEzx5uQ013kN"
      },
      "source": [
        "Download test examples"
      ]
    },
    {
      "cell_type": "code",
      "metadata": {
        "id": "79rcz0c-gBtF",
        "colab": {
          "base_uri": "https://localhost:8080/"
        },
        "outputId": "7edf0d48-6da6-4129-896a-5b8148eb16e0"
      },
      "source": [
        "!mkdir test_examples\n",
        "%cd test_examples\n",
        "!gdown --id 1aTlxDZgQyhJJPvvB3O8ZWMjij_JetqFK\n",
        "!unzip test_examples.zip\n",
        "!rm -rf test_examples.zip"
      ],
      "execution_count": null,
      "outputs": [
        {
          "output_type": "stream",
          "name": "stdout",
          "text": [
            "/content/Images/test_examples\n",
            "Downloading...\n",
            "From: https://drive.google.com/uc?id=1aTlxDZgQyhJJPvvB3O8ZWMjij_JetqFK\n",
            "To: /content/Images/test_examples/test_examples.zip\n",
            "100% 1.29M/1.29M [00:00<00:00, 85.9MB/s]\n",
            "Archive:  test_examples.zip\n",
            "  inflating: dog2.jpg                \n",
            "  inflating: cat1.jpg                \n",
            "  inflating: cat2.jpg                \n",
            "  inflating: dog1.jpg                \n"
          ]
        }
      ]
    },
    {
      "cell_type": "code",
      "metadata": {
        "id": "wc0Ftv5_gG_M"
      },
      "source": [
        "categories = {0: \"cat\", 1: \"dog\"}"
      ],
      "execution_count": null,
      "outputs": []
    },
    {
      "cell_type": "code",
      "metadata": {
        "id": "igwL6kaNgJVq"
      },
      "source": [
        "def read_and_show(path):\n",
        "  img = Image.open(path)\n",
        "  img = img.resize((64,64))\n",
        "  plt.imshow(img)\n",
        "  return img"
      ],
      "execution_count": null,
      "outputs": []
    },
    {
      "cell_type": "markdown",
      "metadata": {
        "id": "pws9Y6V92HLM"
      },
      "source": [
        "Define function to predict image inside test examples"
      ]
    },
    {
      "cell_type": "code",
      "metadata": {
        "id": "OetBqbgAgLlA"
      },
      "source": [
        "def predict_class(img):\n",
        "  img = image.img_to_array(img)\n",
        "  img = np.expand_dims(img, axis=0)\n",
        "  pred = model_catdog.predict(img)\n",
        "  print(f\"The predicted category is: {categories[int(pred[0,0])]}\")"
      ],
      "execution_count": null,
      "outputs": []
    },
    {
      "cell_type": "markdown",
      "metadata": {
        "id": "6t7uZtua2R1H"
      },
      "source": [
        "predict Dog example"
      ]
    },
    {
      "cell_type": "code",
      "metadata": {
        "id": "ep21A5sagOBt",
        "colab": {
          "base_uri": "https://localhost:8080/",
          "height": 285
        },
        "outputId": "7fc557f1-cde0-4564-e700-43c45bd76537"
      },
      "source": [
        "img = read_and_show(\"/content/Data/test_examples/dog2.jpg\")\n",
        "predict_class(img)"
      ],
      "execution_count": null,
      "outputs": [
        {
          "output_type": "stream",
          "name": "stdout",
          "text": [
            "The predicted category is: cat\n"
          ]
        },
        {
          "output_type": "display_data",
          "data": {
            "image/png": "[encoded data removed]",
            "text/plain": [
              "<Figure size 432x288 with 1 Axes>"
            ]
          },
          "metadata": {
            "needs_background": "light"
          }
        }
      ]
    },
    {
      "cell_type": "markdown",
      "metadata": {
        "id": "RMLL71KT2VsJ"
      },
      "source": [
        "predict cat example"
      ]
    },
    {
      "cell_type": "code",
      "metadata": {
        "id": "WijCquWdgSlt",
        "colab": {
          "base_uri": "https://localhost:8080/",
          "height": 285
        },
        "outputId": "9417be3b-2676-4752-828d-28596a45ec89"
      },
      "source": [
        "img = read_and_show(\"/content/Data/test_examples/cat2.jpg\")\n",
        "predict_class(img)"
      ],
      "execution_count": null,
      "outputs": [
        {
          "output_type": "stream",
          "name": "stdout",
          "text": [
            "The predicted category is: dog\n"
          ]
        },
        {
          "output_type": "display_data",
          "data": {
            "image/png": "[encoded data removed]",
            "text/plain": [
              "<Figure size 432x288 with 1 Axes>"
            ]
          },
          "metadata": {
            "needs_background": "light"
          }
        }
      ]
    },
    {
      "cell_type": "markdown",
      "metadata": {
        "id": "R_PgZ0fa3Dwc"
      },
      "source": [
        "Colab link"
      ]
    },
    {
      "cell_type": "code",
      "metadata": {
        "id": "eczjXpWK3FaW"
      },
      "source": [
        "Colab Link: https://colab.research.google.com/drive/1PfkmO29Tg9_THHOejH-U9S6J4GoNJGqG?usp=sharing\n"
      ],
      "execution_count": null,
      "outputs": []
    }
  ]
}