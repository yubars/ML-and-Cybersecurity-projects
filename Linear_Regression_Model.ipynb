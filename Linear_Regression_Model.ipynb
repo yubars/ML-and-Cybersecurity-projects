{
  "nbformat": 4,
  "nbformat_minor": 0,
  "metadata": {
    "colab": {
      "name": "Linear Regression Model",
      "provenance": [],
      "collapsed_sections": [],
      "include_colab_link": true
    },
    "kernelspec": {
      "name": "python3",
      "display_name": "Python 3"
    }
  },
  "cells": [
    {
      "cell_type": "markdown",
      "metadata": {
        "id": "view-in-github",
        "colab_type": "text"
      },
      "source": [
        "<a href=\"https://colab.research.google.com/github/yubars/ML-and-Cybersecurity-projects/blob/main/Linear_Regression_Model.ipynb\" target=\"_parent\"><img src=\"https://colab.research.google.com/assets/colab-badge.svg\" alt=\"Open In Colab\"/></a>"
      ]
    },
    {
      "cell_type": "markdown",
      "metadata": {
        "id": "qCCPMAzb4CR9"
      },
      "source": [
        "#Lab Assignment1: Linear Regression Model\n",
        "In this lab, Linear Regression Model has trained, validated and applied model to predict temperature based on Cricket Chirp rate. From the visualization of data, learned model can be observed alongwith evolution of loss during training. This exercise demonstrates that how features can be set in tensorflow to train model and applied polyfit to infer a real-valued target feature based on previously unknown real-valued input feature(s). Additionally, model performance (accuracy) has beed evaluated using Root Mean Squared Error (RMSE).\n",
        "\n",
        "**Data source:** https://www.globe.gov/explore-science/scientists-blog/archived-posts/sciblog/index.html_p=45.html\n"
      ]
    },
    {
      "cell_type": "markdown",
      "metadata": {
        "id": "CZMB8ggA9qJb"
      },
      "source": [
        "## 1. Training Linear Regression Model"
      ]
    },
    {
      "cell_type": "markdown",
      "metadata": {
        "id": "XDOovrOi8ncw"
      },
      "source": [
        "### 1.1 Imports \n",
        "First, some libraries including numpy, pandas, matplotlib, sklearn and tensorflow have been imported"
      ]
    },
    {
      "cell_type": "code",
      "metadata": {
        "id": "5jaOn7i5AkI_",
        "colab": {
          "base_uri": "https://localhost:8080/"
        },
        "outputId": "b8fa4fbd-a91c-45b9-fad1-f7f98f87aad2"
      },
      "source": [
        "import math\n",
        "import io\n",
        "import numpy as np\n",
        "import pandas as pd\n",
        "from IPython import display\n",
        "from matplotlib import cm \n",
        "from matplotlib import gridspec \n",
        "from matplotlib import pyplot as plt\n",
        "from mpl_toolkits.mplot3d import Axes3D \n",
        "from sklearn import metrics\n",
        "from sklearn.model_selection import train_test_split\n",
        "from time import time as epoc  \n",
        "import tensorflow.compat.v1 as tf\n",
        "tf.disable_v2_behavior() # we could disable 2 TFv2 \n",
        "print(\"Required libraries have imported\")"
      ],
      "execution_count": null,
      "outputs": [
        {
          "output_type": "stream",
          "name": "stdout",
          "text": [
            "Required libraries have imported\n"
          ]
        }
      ]
    },
    {
      "cell_type": "markdown",
      "metadata": {
        "id": "vDF45gb38bOJ"
      },
      "source": [
        "### 1.2 Data Set\n",
        "Cricket Chirps  Vs temperature data has been taken from https://www.globe.gov/explore-science/scientists-blog/archived-posts/sciblog/index.html_p=45.html\n",
        "Here Chirps per 15 sec and tepterature in Fahrenheit has chosen. Dataset can be uploaded from local drive(commented part below) but I uploaded csv file first in google drive and downloaded from google dive using ID as shown below so that dataset can be available anytime and share to others as well"
      ]
    },
    {
      "cell_type": "code",
      "metadata": {
        "colab": {
          "resources": {
            "http://localhost:8080/nbextensions/google.colab/files.js": {
              "data": "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",
              "ok": true,
              "headers": [
                [
                  "content-type",
                  "application/javascript"
                ]
              ],
              "status": 200,
              "status_text": ""
            }
          },
          "base_uri": "https://localhost:8080/",
          "height": 56
        },
        "id": "tYxoNkdLT0sp",
        "outputId": "a80cd72c-9461-4b20-aad6-9ac6e53f8980"
      },
      "source": [
        "# from google.colab import files\n",
        "# uplo = files.upload()"
      ],
      "execution_count": null,
      "outputs": [
        {
          "output_type": "display_data",
          "data": {
            "text/html": [
              "\n",
              "     <input type=\"file\" id=\"files-8db75643-6fed-43f5-aecb-090776fa896d\" name=\"files[]\" multiple disabled\n",
              "        style=\"border:none\" />\n",
              "     <output id=\"result-8db75643-6fed-43f5-aecb-090776fa896d\">\n",
              "      Upload widget is only available when the cell has been executed in the\n",
              "      current browser session. Please rerun this cell to enable.\n",
              "      </output>\n",
              "      <script src=\"/nbextensions/google.colab/files.js\"></script> "
            ],
            "text/plain": [
              "<IPython.core.display.HTML object>"
            ]
          },
          "metadata": {}
        },
        {
          "output_type": "stream",
          "name": "stdout",
          "text": [
            "Saving cricket_chirps.csv to cricket_chirps.csv\n"
          ]
        }
      ]
    },
    {
      "cell_type": "code",
      "metadata": {
        "id": "TAW_i2POUpcL"
      },
      "source": [
        "# my_data = pd.read_csv(io.BytesIO(uplo['cricket_chirps.csv']))"
      ],
      "execution_count": null,
      "outputs": []
    },
    {
      "cell_type": "code",
      "metadata": {
        "colab": {
          "base_uri": "https://localhost:8080/",
          "height": 206
        },
        "id": "2uZ_5jdAVWG7",
        "outputId": "9532ea01-fc5d-4e06-9a69-b894a5b55c19"
      },
      "source": [
        "# my_data.head()"
      ],
      "execution_count": null,
      "outputs": [
        {
          "output_type": "execute_result",
          "data": {
            "text/html": [
              "<div>\n",
              "<style scoped>\n",
              "    .dataframe tbody tr th:only-of-type {\n",
              "        vertical-align: middle;\n",
              "    }\n",
              "\n",
              "    .dataframe tbody tr th {\n",
              "        vertical-align: top;\n",
              "    }\n",
              "\n",
              "    .dataframe thead th {\n",
              "        text-align: right;\n",
              "    }\n",
              "</style>\n",
              "<table border=\"1\" class=\"dataframe\">\n",
              "  <thead>\n",
              "    <tr style=\"text-align: right;\">\n",
              "      <th></th>\n",
              "      <th>c_chirps</th>\n",
              "      <th>temp</th>\n",
              "    </tr>\n",
              "  </thead>\n",
              "  <tbody>\n",
              "    <tr>\n",
              "      <th>0</th>\n",
              "      <td>44.0</td>\n",
              "      <td>80.5</td>\n",
              "    </tr>\n",
              "    <tr>\n",
              "      <th>1</th>\n",
              "      <td>46.4</td>\n",
              "      <td>78.5</td>\n",
              "    </tr>\n",
              "    <tr>\n",
              "      <th>2</th>\n",
              "      <td>43.6</td>\n",
              "      <td>78.0</td>\n",
              "    </tr>\n",
              "    <tr>\n",
              "      <th>3</th>\n",
              "      <td>35.0</td>\n",
              "      <td>73.5</td>\n",
              "    </tr>\n",
              "    <tr>\n",
              "      <th>4</th>\n",
              "      <td>35.0</td>\n",
              "      <td>70.5</td>\n",
              "    </tr>\n",
              "  </tbody>\n",
              "</table>\n",
              "</div>"
            ],
            "text/plain": [
              "   c_chirps  temp\n",
              "0      44.0  80.5\n",
              "1      46.4  78.5\n",
              "2      43.6  78.0\n",
              "3      35.0  73.5\n",
              "4      35.0  70.5"
            ]
          },
          "metadata": {},
          "execution_count": 9
        }
      ]
    },
    {
      "cell_type": "code",
      "metadata": {
        "id": "dK7XjeOqYzy4"
      },
      "source": [
        "#select and upload dataset (*.csv) file from the local drive and import it into a pandas dataframe\n",
        "###from google.colab import files\n",
        "###uploaded = files.upload()\n",
        "#data_set= pd.read_csv(io.BytesIO(uploaded['cricket_chirps.csv']))\n",
        "\n",
        "!gdown --id 1JgmHiDqi0JCK7kYgKBm-wgqLb3QPjI6T\n",
        "\n",
        "data_set= pd.read_csv('cricket_chirps.csv', names=['c_chirps', 'temp'], skiprows=1)\n",
        "# data_set = pd.read_csv('cricket_chirps.csv')\n",
        "X=data_set['c_chirps'] *4 # feature(s) to train model\n",
        "y = data_set['temp']   #target/label\n"
      ],
      "execution_count": null,
      "outputs": []
    },
    {
      "cell_type": "code",
      "metadata": {
        "colab": {
          "base_uri": "https://localhost:8080/"
        },
        "id": "IDFH-eZkZcEv",
        "outputId": "47b1bb83-7367-408f-ee53-c1baed9a1319"
      },
      "source": [
        "# len(X), len(y)"
      ],
      "execution_count": null,
      "outputs": [
        {
          "output_type": "execute_result",
          "data": {
            "text/plain": [
              "(55, 55)"
            ]
          },
          "metadata": {},
          "execution_count": 20
        }
      ]
    },
    {
      "cell_type": "markdown",
      "metadata": {
        "id": "MaEyQAuVmXYm"
      },
      "source": [
        "###1.3 Splitting the dataset into train, valid and test set. \n",
        "Training data is set of data used for learning (by the model). Validation data is set of data used to provide an unbiased evaluation of a model fitted on the training dataset while tuning model hyperparameters. And Test data is set of data used to provide an unbiased evaluation of a final model fitted on the training dataset."
      ]
    },
    {
      "cell_type": "code",
      "metadata": {
        "colab": {
          "base_uri": "https://localhost:8080/"
        },
        "id": "9KxBkbF6mdin",
        "outputId": "256d2dd5-bc9f-423c-a45c-7ba656979f64"
      },
      "source": [
        "# In the first step we will split the data in training  and remaining dataset\n",
        "X_train, X_rem, y_train, y_rem = train_test_split(X,y, train_size=0.7, random_state=20)\n",
        "#Now since we want the test dataset 40% each of remaining data, we  have to define valid_size=0.6\n",
        "X_valid, X_test, y_valid, y_test = train_test_split(X_rem,y_rem, test_size=0.4, random_state=18)\n",
        "print(\"Number of training, validation and test data are:\", len(X_train),len(X_valid), len(X_test))"
      ],
      "execution_count": null,
      "outputs": [
        {
          "output_type": "stream",
          "name": "stdout",
          "text": [
            "Number of training, validation and test data are: 38 10 7\n"
          ]
        }
      ]
    },
    {
      "cell_type": "code",
      "metadata": {
        "id": "E0d7tD1TXdio"
      },
      "source": [
        "# train_X, rem_X,train_y,rem_y = train_test_split(X, y, train_size=0.8, random_state= 21)"
      ],
      "execution_count": null,
      "outputs": []
    },
    {
      "cell_type": "code",
      "metadata": {
        "colab": {
          "base_uri": "https://localhost:8080/"
        },
        "id": "90sOvSq-ZDRW",
        "outputId": "280fa88c-3567-4a51-999c-5bfb5a0430cf"
      },
      "source": [
        "# len(rem_X), len(rem_y),len(train_X), len(train_y)"
      ],
      "execution_count": null,
      "outputs": [
        {
          "output_type": "execute_result",
          "data": {
            "text/plain": [
              "(11, 11, 44, 44)"
            ]
          },
          "metadata": {},
          "execution_count": 25
        }
      ]
    },
    {
      "cell_type": "code",
      "metadata": {
        "id": "v-9AedChYNWe"
      },
      "source": [
        "# val_X, test_X, val_y, test_y =train_test_split(rem_X, rem_y, test_size=0.5, random_state=20, shuffle=True)"
      ],
      "execution_count": null,
      "outputs": []
    },
    {
      "cell_type": "markdown",
      "metadata": {
        "id": "wpn-fkGa8GyG"
      },
      "source": [
        "### 1.4 Using a Scatter Plot to Visualize the Data\n",
        "I have used subplots here to visualize all training, validatation and test set together with scatter plots. "
      ]
    },
    {
      "cell_type": "code",
      "metadata": {
        "id": "V6np1ss1UQ9N",
        "colab": {
          "base_uri": "https://localhost:8080/",
          "height": 368
        },
        "outputId": "5c196600-a3c4-439d-a3f7-245dd2035afa"
      },
      "source": [
        "# Visualization of data (input and output) for Temperature based on Cricket chirps per 15 sec\n",
        "fig, (fig1,fig2,fig3) = plt.subplots(1,3, figsize=(20,5))\n",
        "fig1.set_title(\"Training Set\")\n",
        "fig1.scatter(X_train,y_train, c='blue')\n",
        "fig1.set_xlabel(\"Cricket Chirps per 15 sec\")\n",
        "fig1.set_ylabel(\"Temperature in F\")\n",
        "\n",
        "fig2.set_title(\"Validation Set\")\n",
        "fig2.scatter(X_valid,y_valid, c='blue')\n",
        "fig2.set_xlabel(\"Cricket Chirps per 15 sec\")\n",
        "fig2.set_ylabel(\"Temperature in F\")\n",
        "\n",
        "fig3.set_title(\"Validation Set\")\n",
        "fig3.scatter(X_test,y_test, c='blue')\n",
        "fig3.set_xlabel(\"Cricket Chirps per 15 sec\")\n",
        "fig3.set_ylabel(\"Temperature in F\")\n",
        "plt.plot()"
      ],
      "execution_count": null,
      "outputs": [
        {
          "output_type": "execute_result",
          "data": {
            "text/plain": [
              "[]"
            ]
          },
          "metadata": {},
          "execution_count": 30
        },
        {
          "output_type": "display_data",
          "data": {
            "image/png": "[encoded data removed]",
            "text/plain": [
              "<Figure size 1440x360 with 3 Axes>"
            ]
          },
          "metadata": {
            "needs_background": "light"
          }
        }
      ]
    },
    {
      "cell_type": "markdown",
      "metadata": {
        "id": "6ymJVIa677NS"
      },
      "source": [
        "### 1.5 Using polyfit to find the line that minimizes Root Mean Squared Error(RMSE)\n",
        "To find the line that minimizes the squared error with respect to a set of points, and  to help see what the optimal solution looks like we wil use **polyfit** to compute the optimal solution with low RMSE and then add that to our plot."
      ]
    },
    {
      "cell_type": "code",
      "metadata": {
        "id": "IFZGnERkpEnF",
        "colab": {
          "base_uri": "https://localhost:8080/"
        },
        "outputId": "08d2e35a-193c-4b8b-898f-6d403b82342d"
      },
      "source": [
        "# Training model using training set data (input and output) for Temperature based on Cricket chirps per 15 sec\n",
        "#apply polyfit for linear model\n",
        "train_opt = np.polyfit(X_train,y_train, 1)\n",
        "#extract slope(weight) and intercept(bia)\n",
        "weight = train_opt[0]\n",
        "bias = train_opt[1]\n",
        "#predict target variable \n",
        "y_pred = weight * (X_train.astype(float)) + bias\n",
        "#calculate RMSE\n",
        "train_opt_rmse = math.sqrt(metrics.mean_squared_error(y_pred, y_train))\n",
        "print(\"Optimal Training RMSE =\", train_opt_rmse, \"with weight\", weight, \"and Bias\", bias)"
      ],
      "execution_count": null,
      "outputs": [
        {
          "output_type": "stream",
          "name": "stdout",
          "text": [
            "Optimal Training RMSE = 1.5424114133254117 with weight 0.2293431184096807 and Bias 39.443652921004364\n"
          ]
        }
      ]
    },
    {
      "cell_type": "code",
      "metadata": {
        "colab": {
          "base_uri": "https://localhost:8080/"
        },
        "id": "2nKYrIU4lE9o",
        "outputId": "9fd6bc4b-d056-4df3-edeb-22861c8c0596"
      },
      "source": [
        "# val_opt = np.polyfit(X_valid,y_valid, 1)\n",
        "# weight1 =val_opt[0]\n",
        "# bias1 = val_opt[1]\n",
        "\n",
        "# test_opt = np.polyfit(X_test,y_test, 1)\n",
        "# weight2 =test_opt[0]\n",
        "# bias2 = test_opt[1]\n",
        "# weight1, weight2\n"
      ],
      "execution_count": null,
      "outputs": [
        {
          "output_type": "execute_result",
          "data": {
            "text/plain": [
              "(0.21187987521674476, 0.21846754006953942)"
            ]
          },
          "metadata": {},
          "execution_count": 62
        }
      ]
    },
    {
      "cell_type": "markdown",
      "metadata": {
        "id": "nBGqT5479DG-"
      },
      "source": [
        "### 1.6 Visualizing a Linear Model Using a Scatter Plot\n",
        "\n",
        "linear regression model has plotted using scatter_plot function passing argument such as  features, target, weight, bias as well as model names over a single variable, a really nice thing to be able to do, is to show the model (which is just a line) as part of the scatter plot. That really helps us to see how well the model fits the data. Just looking at the loss (RMSE here) doesn't really indicate how good the model is. Sometimes you want to show several models on the same scatter plot to compare them so we allow slopes, biases, and model_names to all be lists. They should be of the same size giving the weight (slope), bias, and name (to use in the legend) for the model."
      ]
    },
    {
      "cell_type": "code",
      "metadata": {
        "id": "9IEZ8sS1qtvv"
      },
      "source": [
        "# Function to find the linear model based on the training data (input and output) for Temperature in F based on Cricket chirps per 15 sec\n",
        "\n",
        "def scatter_plot(features, targets, slopes=[], biases=[], model_names=[]):\n",
        "  \"\"\" Creates a scatter plot of input_feature vs target along with the models.\n",
        "  Args:\n",
        "    features: list of the input features\n",
        "    targets: list of targets\n",
        "    slopes: list of model weight (slope) \n",
        "    bias: list of model bias (same size as slopes)\"\"\"\n",
        "    # Define some colors to use that go from red towards blue\n",
        "  colors = [cm.coolwarm(x) for x in np.linspace(1, 0, len(slopes))]\n",
        "  \n",
        "  # Generate the Scatter plot\n",
        "  plt.xlabel(\"Cricket Chirps per 15 sec\")\n",
        "  plt.ylabel(\"Temp (F)\")\n",
        "  plt.scatter(features, targets, color='blue', label=\" Training data\")\n",
        " \n",
        "  # Add the lines corresponding to the provided models\n",
        "  for i in range (0, len(slopes)):\n",
        "    y_0 = slopes[i] * min(features) + biases[i]\n",
        "    y_1 = slopes[i] * max(features) + biases[i]\n",
        "   \n",
        "    plt.plot([min(features), max(features)], [y_0, y_1],\n",
        "             label=model_names[i], color=colors[i])\n",
        "       \n",
        "  if (len(model_names) > 0):\n",
        "    plt.legend(bbox_to_anchor=(1.05, 1), loc=2, borderaxespad=0.)"
      ],
      "execution_count": null,
      "outputs": []
    },
    {
      "cell_type": "code",
      "metadata": {
        "id": "Y2tRs2U5qv5M",
        "colab": {
          "base_uri": "https://localhost:8080/",
          "height": 279
        },
        "outputId": "f94f6b49-de50-4b2b-8aa3-2dfeaa797322"
      },
      "source": [
        "scatter_plot(X_train, y_train, [weight], [bias], [\"Optimal model\"])\n"
      ],
      "execution_count": null,
      "outputs": [
        {
          "output_type": "display_data",
          "data": {
            "image/png": "[encoded data removed]",
            "text/plain": [
              "<Figure size 432x288 with 1 Axes>"
            ]
          },
          "metadata": {
            "needs_background": "light"
          }
        }
      ]
    },
    {
      "cell_type": "markdown",
      "metadata": {
        "id": "N6xuhXX5zHS6"
      },
      "source": [
        "##2. Validation of the learned model \n",
        "Validation of learned model with validation data and finding the validation errors and its comparison with training error"
      ]
    },
    {
      "cell_type": "code",
      "metadata": {
        "id": "1BSYNFhuzGCD",
        "colab": {
          "base_uri": "https://localhost:8080/"
        },
        "outputId": "078798d5-d6e1-443f-fe3f-6a0c5ab91d5a"
      },
      "source": [
        "#calculate target feature using same weight abd bias but validation input data\n",
        "y_valid_pred = weight * X_valid.astype(float) + bias\n",
        "#calculate validation RMSE and compare it with training RMSE\n",
        "validation_rmse = math.sqrt(metrics.mean_squared_error(y_valid_pred,y_valid))\n",
        "print(\"Valication RMSE =\", validation_rmse, \"for weight\", weight, \"and bias\", bias)\n",
        "print(\"Training RMSE =\", train_opt_rmse,  \"for weight\", weight, \"and bias\", bias)\n",
        "print(\"Valication RMSE and Trainig RMSE error % =\", abs(validation_rmse - train_opt_rmse)/train_opt_rmse *100)\n"
      ],
      "execution_count": null,
      "outputs": [
        {
          "output_type": "stream",
          "name": "stdout",
          "text": [
            "Valication RMSE = 1.6049443769672895 for weight 0.9173724736387228 and bias 39.443652921004364\n",
            "Training RMSE = 1.5424114133254117 for weight 0.9173724736387228 and bias 39.443652921004364\n",
            "Valication RMSE and Trainig RMSE error % = 4.0542337214075665\n"
          ]
        }
      ]
    },
    {
      "cell_type": "code",
      "metadata": {
        "colab": {
          "base_uri": "https://localhost:8080/"
        },
        "id": "S11BGfSUkHgG",
        "outputId": "8888a391-e768-46e3-bdd3-0691b671332a"
      },
      "source": [
        "#calculate target feature using same weight abd bias but test input data\n",
        "y_test_pred = weight * X_test.astype(float) + bias\n",
        "#calculate Test RMSE and compare it with training RMSEy_test_pred = weight * X_test.astype(float) + bias\n",
        "test_rmse = math.sqrt(metrics.mean_squared_error(y_test_pred,y_test))\n",
        "print(\"Test RMSE =\", test_rmse, \"for weight\", weight, \"and bias\", bias)\n",
        "print(\"Training RMSE =\", train_opt_rmse,  \"for weight\", weight, \"and bias\", bias)\n",
        "print(\"Test RMSE and Trainig RMSE error % =\", abs(test_rmse - train_opt_rmse)/train_opt_rmse *100)"
      ],
      "execution_count": null,
      "outputs": [
        {
          "output_type": "stream",
          "name": "stdout",
          "text": [
            "Test RMSE = 1.9002025360385795 for weight 0.9173724736387228 and bias 39.443652921004364\n",
            "Training RMSE = 1.5424114133254117 for weight 0.9173724736387228 and bias 39.443652921004364\n",
            "Test RMSE and Trainig RMSE error % = 23.19686690736919\n"
          ]
        }
      ]
    },
    {
      "cell_type": "markdown",
      "metadata": {
        "id": "E0gGvqRO6kcp"
      },
      "source": [
        "##3. Inferencing/Prediction\n",
        "In this section, Inference has been done using learned linear regression model developed above. Now temperature in Fahrenheit has predicted for new and unknown value of X (input features) not available in all training, validation and testing dataset"
      ]
    },
    {
      "cell_type": "code",
      "metadata": {
        "id": "HKbJyKYSz-Y0"
      },
      "source": [
        "#@title Inferencing/Predicting for \n",
        "X_New =  36#@param {type:\"number\"}\n"
      ],
      "execution_count": null,
      "outputs": []
    },
    {
      "cell_type": "code",
      "metadata": {
        "id": "j8z4KhqsnX9D"
      },
      "source": [
        "#@title Predictiing for\n",
        "X_New =  24#@param{type:\"number\"}"
      ],
      "execution_count": null,
      "outputs": []
    },
    {
      "cell_type": "code",
      "metadata": {
        "colab": {
          "base_uri": "https://localhost:8080/"
        },
        "id": "xWBX6i2nn13p",
        "outputId": "250d7da8-224e-47bf-c2ce-321478955abe"
      },
      "source": [
        "init = tf.compat.v1.global_variables_initializer()\n",
        "\n",
        "with tf.compat.v1.Session() as sess2:\n",
        "  sess2.run(init)\n",
        "  # New Value \n",
        "  x_i = tf.compat.v1.placeholder(tf.float32)\n",
        "  curr_W = weight\n",
        "  curr_b = bias\n",
        "  YY= curr_W *x_i + curr_b \n",
        "  Y_NEW = sess2.run(YY, {x_i: X_New})\n",
        "  print(f\"For {X_New} Cricket's Chirps per 15 sec, the predicted temperature is {int(Y_NEW)}  degree Fahrenheit\")\n"
      ],
      "execution_count": null,
      "outputs": [
        {
          "output_type": "stream",
          "name": "stdout",
          "text": [
            "For 36 Cricket's Chirps per 15 sec, the predicted temperature is 47  degree Fahrenheit\n"
          ]
        }
      ]
    },
    {
      "cell_type": "code",
      "metadata": {
        "id": "400xcmsEsWdj"
      },
      "source": [
        ""
      ],
      "execution_count": null,
      "outputs": []
    },
    {
      "cell_type": "markdown",
      "metadata": {
        "id": "ymvoH6n9ESDL"
      },
      "source": [
        "### **Conclusion**\n",
        "In this Linear Regression lab, a dataset containing Cricket chirps and corresponding temerature is used to train model. Here I have saved data in my google drive as csv file and downloaded using file id. First necessary libraries have imported including pandas and sklearn. Then dataset is splitted in training, validation and test datasets using sklern's train_test_split method with 70% data allocated for learning and remaining data for validation and test set. Validation and test datasets are use almost for similar purpose, either one works along with traing dataset. Specifically,validation data is set of data used to provide an unbiased evaluation of a model fitted on the training dataset while tuning model hyperparameters where as test data is set of data used to provide an unbiased evaluation of a final model fitted on the training dataset. \n",
        "\n",
        "Scatter plot is used to plot the points to visualize how data looks like. Then Numpy polyfit method is used to fit the line (linear regression model) in scallter plot. Here last argument of polyfit method is 1, indicating linear model. If we need quadratic model, we can use 2 here. Here both weight and bias are calcuated as \n",
        "$$\n",
        "y = wx + b\n",
        "$$\n",
        "where $w$ is commonly known as the *weight*, and $b$ is commonly known as the *intercept*.\n",
        "\n",
        "Polyfit helps to find optimal solution with least possible Root Mean Squred Error(RMSE). RMSE quantitavely shows how the learned model is fitted in applied dataset i.e. trainng, validation and testing datasets. \n",
        "$$RMSE = \\sqrt{(\\frac{1}{n})\\sum_{i=1}^{n}\\left ( y_{i} - \\hat y_{i} \\right )^2}$$\n",
        "\n",
        "where y = actual value in the data set ;  $\\hat y$ = value computed by solving the regression equation\n",
        "By squaring the difference, we can adress positive and negative difference and by dividing number of values, we get average difference between actual and projected values. \n",
        "\n",
        "In this assignment, I have observed minimum difference (4% only) between training RMSE and validation RMSE, indicaing that learned model from traing data closely fitted with validation dataset as well. But there is above 20% difference in training and testing RMSE, may be due to low number of data in test set. Sometimes, we should apply cross-validation to minimize RMSE values and to increase performances. \n",
        "\n",
        "Finally, based on new chirps data, almost accurate prediction of temperature has achieved by bnferencing from learned model for new unknown data.\n",
        "\n",
        "My lab assignement link in colab https://colab.research.google.com/drive/1fYnH4k_U66JLPgTIdu1A5DdcrG-OXw41?usp=sharing"
      ]
    }
  ]
}